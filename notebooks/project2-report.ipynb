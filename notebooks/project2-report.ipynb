{
 "cells": [
  {
   "cell_type": "markdown",
   "metadata": {},
   "source": [
    "# Classification\n",
    "## MSDS 7349 - Section 401\n",
    "## Project 2\n",
    "\n",
    "[Data Science @ Southern Methodist University](https://datascience.smu.edu/)\n",
    "\n",
    "# Table of Contents\n",
    "* [Team Members](#Team-Members)\n",
    "* [Data Preparation](#Data-Preparation)\n",
    "* [Dataset Description](#Dataset-Description)\n",
    "* [Evaluation Metrics Description](#Evaluation-Metrics-Description)\n",
    "* [Training and Testing Splits method](#Training-Testing)\n",
    "* [Classification Task](#Classification-Task)\n",
    "* [Regression Task](#Regression-Task)\n",
    "* [Methods of Evaluation Results](#Methods-of-Evaluation)\n",
    "* [Advantages of each model](#Advantages-of-each-model)\n",
    "* [Relevant Attributes](#Relevant-Attributes)\n",
    "* [Deployment](#Deployment)\n",
    "* [Exceptional Work](#Exceptional-Work)\n",
    "* [References](#References)\n",
    "\n",
    "\n",
    "# <a name=\"Team-Members\"></a>Team Members\n",
    "* [Jostein Barry-Straume](https://github.com/josteinstraume)\n",
    "* [Kevin Cannon](https://github.com/kcannon2)\n",
    "* [Ernesto Carrera Ruvalcaba](https://github.com/ecarrerasmu)\n",
    "* [Adam Tschannen](https://github.com/adamtschannen)"
   ]
  },
  {
   "cell_type": "markdown",
   "metadata": {},
   "source": [
    "# <a name=\"Data-Preparation\"></a>Data Preparation"
   ]
  },
  {
   "cell_type": "markdown",
   "metadata": {},
   "source": [
    "[10 points] Define and prepare your class variables. Use proper variable representations (int, float, one-hot, etc.). Use pre-processing methods (as needed) for dimensionality reduction, scaling, etc. Remove variables that are not needed/useful for the analysis.\n",
    "\n",
    "> The credit default data set is from the [UCI Machine Learning Repository](https://archive.ics.uci.edu/ml/datasets/default+of+credit+card+clients#). It has 30,000 records with 24 attributes. The records reflect the payment data from an important Taiwanese bank during October, 2005 (Yeh & Lien 2475).\n",
    "\n",
    "> The purpose of the data set was to tackle the issue of forecasting the probability of default. In particular, the researchers of this data set sought to determine if the \"estimated probability of default produced from data mining methods... (could) represent the \"real\" probability of default\" (Yeh & Lien 2473).\n",
    "\n",
    "> The dataset needs some pre-processing before it is ready for classification and regression analysis.\n",
    "\n",
    "> To start, missing or incorrect values for education level, marital status, and repayment status are imputed."
   ]
  },
  {
   "cell_type": "code",
   "execution_count": 187,
   "metadata": {},
   "outputs": [],
   "source": [
    "import pandas as pd\n",
    "import numpy as np\n",
    "import matplotlib.pyplot as plt\n",
    "import scipy as sp\n",
    "import seaborn as sns\n",
    "import statistics as st\n",
    "import csv as csv\n",
    "from sklearn.feature_selection import RFE\n",
    "from sklearn.linear_model import LogisticRegression\n",
    "from __future__ import print_function\n",
    "from sklearn.preprocessing import StandardScaler\n",
    "from sklearn.model_selection import cross_validate\n",
    "\n",
    "#ignore warnings\n",
    "import warnings\n",
    "warnings.filterwarnings('ignore')\n",
    "\n",
    "%matplotlib inline\n",
    "\n",
    "filepath = \"/data/credit-defaults.xls\"\n",
    "\n",
    "# Relative local path to avoid changing filepath constantly\n",
    "credit = pd.read_excel('../data/credit-defaults.xls', header=1, skiprows=0)\n",
    "\n",
    "\n",
    "# Rename column(s)\n",
    "credit = credit.rename(columns={'default payment next month': 'default_next_m', 'PAY_0': 'PAY_1'})\n"
   ]
  },
  {
   "cell_type": "code",
   "execution_count": 188,
   "metadata": {},
   "outputs": [],
   "source": [
    "#CREATING NEW VARIABLE TO IMPUTE THE VALUES TO 4, THAT REPRESENTS OTHER\n",
    "credit['EDUCATION_INP']=credit['EDUCATION']\n",
    "\n",
    "credit.loc[credit['EDUCATION'] > 4, 'EDUCATION_INP'] = 4\n",
    "credit.loc[credit['EDUCATION'] == 0, 'EDUCATION_INP'] = 4"
   ]
  },
  {
   "cell_type": "code",
   "execution_count": 189,
   "metadata": {},
   "outputs": [],
   "source": [
    "####FOR MARRIAGE\n",
    "#CREATING NEW VARIABLE TO IMPUTE THE VALUES TO 2, THAT REPRESETNS SINGLE, since the value of 0 is not defined in\n",
    "#the data dictionary\n",
    "credit['MARRIAGE_INP']=credit['MARRIAGE']\n",
    "\n",
    "\n",
    "credit.loc[credit['MARRIAGE'] == 0, 'MARRIAGE_INP'] = 2\n"
   ]
  },
  {
   "cell_type": "code",
   "execution_count": 190,
   "metadata": {},
   "outputs": [],
   "source": [
    "########### CREATING A FUNCTION TO GROUP VARIABLES\n",
    "def group_biv_v1(var_name,RangeName,CutOff,NumBins,BinLabel,var_x,var_y,title1,title2):\n",
    "#def bivariate_v1(NumBins): \n",
    "    #Creating the BINS\n",
    "    credit[RangeName]=pd.cut(var_name,CutOff,NumBins,labels=BinLabel)\n",
    "    #Grouping by the BINS variable\n",
    "    default_g=credit.groupby(by=[RangeName])\n",
    "    #% of POPULATION\n",
    "    bins_percentage=default_g[RangeName].count()/credit[RangeName].count()\n",
    "    \n",
    "    #### creating DUMMY VARIABLES\n",
    "    \n",
    "    \n",
    "    \n",
    "    \n",
    "\n",
    "#group_biv_v1(credit.PAY_1,'PAY_1_range',[-2.1,0,1,10],3,['Pay duly','delay 1 month ','delay > 1'],'Percentage','PAY_1_bins','% of population PAY_1','Default PAY_1 ')\n"
   ]
  },
  {
   "cell_type": "code",
   "execution_count": 191,
   "metadata": {},
   "outputs": [],
   "source": [
    "############## IMPUTE VALUES FOR THE VARIABLES OF REPAYMENT STATUS (PAY0, PAY1,   PAYN)\n",
    "group_biv_v1(credit.PAY_1,'PAY_1_range',[-2.1,0,1,10],3,['Pay duly','delay 1 month ','delay > 1'],'Percentage','PAY_1_bins','% of population PAY_1','Default PAY_1 ')\n",
    "\n",
    "group_biv_v1(credit.PAY_2,'PAY_2_range',[-2.1,1,10],2,['Pay duly','delay > 1'],'Percentage','PAY_2_bins','% of population PAY_2','Default PAY_2 ')\n",
    "\n",
    "group_biv_v1(credit.PAY_3,'PAY_3_range',[-2.1,1,10],2,['Pay duly','delay > 1'],'Percentage','PAY_3_bins','% of population PAY_3','Default PAY_3 ')\n",
    "\n",
    "group_biv_v1(credit.PAY_4,'PAY_4_range',[-2.1,1,10],2,['Pay duly','delay > 1'],'Percentage','PAY_4_bins','% of population PAY_4','Default PAY_4 ')\n",
    "\n",
    "group_biv_v1(credit.PAY_5,'PAY_5_range',[-2.1,1,10],2,['Pay duly','delay > 1'],'Percentage','PAY_5_bins','% of population PAY_5','Default PAY_5 ')\n",
    "\n",
    "group_biv_v1(credit.PAY_6,'PAY_6_range',[-2.1,1,10],2,['Pay duly','delay > 1'],'Percentage','PAY_6_bins','% of population PAY_6','Default PAY_6 ')\n"
   ]
  },
  {
   "cell_type": "code",
   "execution_count": 192,
   "metadata": {},
   "outputs": [
    {
     "data": {
      "text/html": [
       "<div>\n",
       "<style scoped>\n",
       "    .dataframe tbody tr th:only-of-type {\n",
       "        vertical-align: middle;\n",
       "    }\n",
       "\n",
       "    .dataframe tbody tr th {\n",
       "        vertical-align: top;\n",
       "    }\n",
       "\n",
       "    .dataframe thead th {\n",
       "        text-align: right;\n",
       "    }\n",
       "</style>\n",
       "<table border=\"1\" class=\"dataframe\">\n",
       "  <thead>\n",
       "    <tr style=\"text-align: right;\">\n",
       "      <th></th>\n",
       "      <th>ID</th>\n",
       "      <th>LIMIT_BAL</th>\n",
       "      <th>SEX</th>\n",
       "      <th>EDUCATION</th>\n",
       "      <th>MARRIAGE</th>\n",
       "      <th>AGE</th>\n",
       "      <th>PAY_1</th>\n",
       "      <th>PAY_2</th>\n",
       "      <th>PAY_3</th>\n",
       "      <th>PAY_4</th>\n",
       "      <th>...</th>\n",
       "      <th>PAY_AMT6</th>\n",
       "      <th>default_next_m</th>\n",
       "      <th>EDUCATION_INP</th>\n",
       "      <th>MARRIAGE_INP</th>\n",
       "      <th>PAY_1_range</th>\n",
       "      <th>PAY_2_range</th>\n",
       "      <th>PAY_3_range</th>\n",
       "      <th>PAY_4_range</th>\n",
       "      <th>PAY_5_range</th>\n",
       "      <th>PAY_6_range</th>\n",
       "    </tr>\n",
       "  </thead>\n",
       "  <tbody>\n",
       "    <tr>\n",
       "      <th>0</th>\n",
       "      <td>1</td>\n",
       "      <td>20000</td>\n",
       "      <td>2</td>\n",
       "      <td>2</td>\n",
       "      <td>1</td>\n",
       "      <td>24</td>\n",
       "      <td>2</td>\n",
       "      <td>2</td>\n",
       "      <td>-1</td>\n",
       "      <td>-1</td>\n",
       "      <td>...</td>\n",
       "      <td>0</td>\n",
       "      <td>1</td>\n",
       "      <td>2</td>\n",
       "      <td>1</td>\n",
       "      <td>delay &gt; 1</td>\n",
       "      <td>delay &gt; 1</td>\n",
       "      <td>Pay duly</td>\n",
       "      <td>Pay duly</td>\n",
       "      <td>Pay duly</td>\n",
       "      <td>Pay duly</td>\n",
       "    </tr>\n",
       "    <tr>\n",
       "      <th>1</th>\n",
       "      <td>2</td>\n",
       "      <td>120000</td>\n",
       "      <td>2</td>\n",
       "      <td>2</td>\n",
       "      <td>2</td>\n",
       "      <td>26</td>\n",
       "      <td>-1</td>\n",
       "      <td>2</td>\n",
       "      <td>0</td>\n",
       "      <td>0</td>\n",
       "      <td>...</td>\n",
       "      <td>2000</td>\n",
       "      <td>1</td>\n",
       "      <td>2</td>\n",
       "      <td>2</td>\n",
       "      <td>Pay duly</td>\n",
       "      <td>delay &gt; 1</td>\n",
       "      <td>Pay duly</td>\n",
       "      <td>Pay duly</td>\n",
       "      <td>Pay duly</td>\n",
       "      <td>delay &gt; 1</td>\n",
       "    </tr>\n",
       "    <tr>\n",
       "      <th>2</th>\n",
       "      <td>3</td>\n",
       "      <td>90000</td>\n",
       "      <td>2</td>\n",
       "      <td>2</td>\n",
       "      <td>2</td>\n",
       "      <td>34</td>\n",
       "      <td>0</td>\n",
       "      <td>0</td>\n",
       "      <td>0</td>\n",
       "      <td>0</td>\n",
       "      <td>...</td>\n",
       "      <td>5000</td>\n",
       "      <td>0</td>\n",
       "      <td>2</td>\n",
       "      <td>2</td>\n",
       "      <td>Pay duly</td>\n",
       "      <td>Pay duly</td>\n",
       "      <td>Pay duly</td>\n",
       "      <td>Pay duly</td>\n",
       "      <td>Pay duly</td>\n",
       "      <td>Pay duly</td>\n",
       "    </tr>\n",
       "    <tr>\n",
       "      <th>3</th>\n",
       "      <td>4</td>\n",
       "      <td>50000</td>\n",
       "      <td>2</td>\n",
       "      <td>2</td>\n",
       "      <td>1</td>\n",
       "      <td>37</td>\n",
       "      <td>0</td>\n",
       "      <td>0</td>\n",
       "      <td>0</td>\n",
       "      <td>0</td>\n",
       "      <td>...</td>\n",
       "      <td>1000</td>\n",
       "      <td>0</td>\n",
       "      <td>2</td>\n",
       "      <td>1</td>\n",
       "      <td>Pay duly</td>\n",
       "      <td>Pay duly</td>\n",
       "      <td>Pay duly</td>\n",
       "      <td>Pay duly</td>\n",
       "      <td>Pay duly</td>\n",
       "      <td>Pay duly</td>\n",
       "    </tr>\n",
       "    <tr>\n",
       "      <th>4</th>\n",
       "      <td>5</td>\n",
       "      <td>50000</td>\n",
       "      <td>1</td>\n",
       "      <td>2</td>\n",
       "      <td>1</td>\n",
       "      <td>57</td>\n",
       "      <td>-1</td>\n",
       "      <td>0</td>\n",
       "      <td>-1</td>\n",
       "      <td>0</td>\n",
       "      <td>...</td>\n",
       "      <td>679</td>\n",
       "      <td>0</td>\n",
       "      <td>2</td>\n",
       "      <td>1</td>\n",
       "      <td>Pay duly</td>\n",
       "      <td>Pay duly</td>\n",
       "      <td>Pay duly</td>\n",
       "      <td>Pay duly</td>\n",
       "      <td>Pay duly</td>\n",
       "      <td>Pay duly</td>\n",
       "    </tr>\n",
       "  </tbody>\n",
       "</table>\n",
       "<p>5 rows × 33 columns</p>\n",
       "</div>"
      ],
      "text/plain": [
       "   ID  LIMIT_BAL  SEX  EDUCATION  MARRIAGE  AGE  PAY_1  PAY_2  PAY_3  PAY_4  \\\n",
       "0   1      20000    2          2         1   24      2      2     -1     -1   \n",
       "1   2     120000    2          2         2   26     -1      2      0      0   \n",
       "2   3      90000    2          2         2   34      0      0      0      0   \n",
       "3   4      50000    2          2         1   37      0      0      0      0   \n",
       "4   5      50000    1          2         1   57     -1      0     -1      0   \n",
       "\n",
       "      ...       PAY_AMT6  default_next_m  EDUCATION_INP  MARRIAGE_INP  \\\n",
       "0     ...              0               1              2             1   \n",
       "1     ...           2000               1              2             2   \n",
       "2     ...           5000               0              2             2   \n",
       "3     ...           1000               0              2             1   \n",
       "4     ...            679               0              2             1   \n",
       "\n",
       "   PAY_1_range  PAY_2_range  PAY_3_range  PAY_4_range  PAY_5_range  \\\n",
       "0    delay > 1    delay > 1     Pay duly     Pay duly     Pay duly   \n",
       "1     Pay duly    delay > 1     Pay duly     Pay duly     Pay duly   \n",
       "2     Pay duly     Pay duly     Pay duly     Pay duly     Pay duly   \n",
       "3     Pay duly     Pay duly     Pay duly     Pay duly     Pay duly   \n",
       "4     Pay duly     Pay duly     Pay duly     Pay duly     Pay duly   \n",
       "\n",
       "   PAY_6_range  \n",
       "0     Pay duly  \n",
       "1    delay > 1  \n",
       "2     Pay duly  \n",
       "3     Pay duly  \n",
       "4     Pay duly  \n",
       "\n",
       "[5 rows x 33 columns]"
      ]
     },
     "execution_count": 192,
     "metadata": {},
     "output_type": "execute_result"
    }
   ],
   "source": [
    "credit.head()"
   ]
  },
  {
   "cell_type": "code",
   "execution_count": 193,
   "metadata": {},
   "outputs": [
    {
     "name": "stdout",
     "output_type": "stream",
     "text": [
      "<class 'pandas.core.frame.DataFrame'>\n",
      "RangeIndex: 30000 entries, 0 to 29999\n",
      "Data columns (total 33 columns):\n",
      "ID                30000 non-null int64\n",
      "LIMIT_BAL         30000 non-null int64\n",
      "SEX               30000 non-null int64\n",
      "EDUCATION         30000 non-null int64\n",
      "MARRIAGE          30000 non-null int64\n",
      "AGE               30000 non-null int64\n",
      "PAY_1             30000 non-null int64\n",
      "PAY_2             30000 non-null int64\n",
      "PAY_3             30000 non-null int64\n",
      "PAY_4             30000 non-null int64\n",
      "PAY_5             30000 non-null int64\n",
      "PAY_6             30000 non-null int64\n",
      "BILL_AMT1         30000 non-null int64\n",
      "BILL_AMT2         30000 non-null int64\n",
      "BILL_AMT3         30000 non-null int64\n",
      "BILL_AMT4         30000 non-null int64\n",
      "BILL_AMT5         30000 non-null int64\n",
      "BILL_AMT6         30000 non-null int64\n",
      "PAY_AMT1          30000 non-null int64\n",
      "PAY_AMT2          30000 non-null int64\n",
      "PAY_AMT3          30000 non-null int64\n",
      "PAY_AMT4          30000 non-null int64\n",
      "PAY_AMT5          30000 non-null int64\n",
      "PAY_AMT6          30000 non-null int64\n",
      "default_next_m    30000 non-null int64\n",
      "EDUCATION_INP     30000 non-null int64\n",
      "MARRIAGE_INP      30000 non-null int64\n",
      "PAY_1_range       30000 non-null category\n",
      "PAY_2_range       30000 non-null category\n",
      "PAY_3_range       30000 non-null category\n",
      "PAY_4_range       30000 non-null category\n",
      "PAY_5_range       30000 non-null category\n",
      "PAY_6_range       30000 non-null category\n",
      "dtypes: category(6), int64(27)\n",
      "memory usage: 6.4 MB\n"
     ]
    }
   ],
   "source": [
    "credit.info()"
   ]
  },
  {
   "cell_type": "code",
   "execution_count": 194,
   "metadata": {},
   "outputs": [
    {
     "name": "stdout",
     "output_type": "stream",
     "text": [
      "<class 'pandas.core.frame.DataFrame'>\n",
      "RangeIndex: 30000 entries, 0 to 29999\n",
      "Data columns (total 37 columns):\n",
      "ID                            30000 non-null int64\n",
      "LIMIT_BAL                     30000 non-null int64\n",
      "EDUCATION                     30000 non-null int64\n",
      "MARRIAGE                      30000 non-null int64\n",
      "AGE                           30000 non-null int64\n",
      "PAY_1                         30000 non-null int64\n",
      "PAY_2                         30000 non-null int64\n",
      "PAY_3                         30000 non-null int64\n",
      "PAY_4                         30000 non-null int64\n",
      "PAY_5                         30000 non-null int64\n",
      "PAY_6                         30000 non-null int64\n",
      "BILL_AMT1                     30000 non-null int64\n",
      "BILL_AMT2                     30000 non-null int64\n",
      "BILL_AMT3                     30000 non-null int64\n",
      "BILL_AMT4                     30000 non-null int64\n",
      "BILL_AMT5                     30000 non-null int64\n",
      "BILL_AMT6                     30000 non-null int64\n",
      "PAY_AMT1                      30000 non-null int64\n",
      "PAY_AMT2                      30000 non-null int64\n",
      "PAY_AMT3                      30000 non-null int64\n",
      "PAY_AMT4                      30000 non-null int64\n",
      "PAY_AMT5                      30000 non-null int64\n",
      "PAY_AMT6                      30000 non-null int64\n",
      "default_next_m                30000 non-null int64\n",
      "EDUCATION_INP_2               30000 non-null uint8\n",
      "EDUCATION_INP_3               30000 non-null uint8\n",
      "EDUCATION_INP_4               30000 non-null uint8\n",
      "MARRIAGE_INP_2                30000 non-null uint8\n",
      "MARRIAGE_INP_3                30000 non-null uint8\n",
      "PAY_1_range_delay 1 month     30000 non-null uint8\n",
      "PAY_1_range_delay > 1         30000 non-null uint8\n",
      "PAY_2_range_delay > 1         30000 non-null uint8\n",
      "PAY_3_range_delay > 1         30000 non-null uint8\n",
      "PAY_4_range_delay > 1         30000 non-null uint8\n",
      "PAY_5_range_delay > 1         30000 non-null uint8\n",
      "PAY_6_range_delay > 1         30000 non-null uint8\n",
      "SEX_2                         30000 non-null uint8\n",
      "dtypes: int64(24), uint8(13)\n",
      "memory usage: 5.9 MB\n"
     ]
    },
    {
     "data": {
      "text/html": [
       "<div>\n",
       "<style scoped>\n",
       "    .dataframe tbody tr th:only-of-type {\n",
       "        vertical-align: middle;\n",
       "    }\n",
       "\n",
       "    .dataframe tbody tr th {\n",
       "        vertical-align: top;\n",
       "    }\n",
       "\n",
       "    .dataframe thead th {\n",
       "        text-align: right;\n",
       "    }\n",
       "</style>\n",
       "<table border=\"1\" class=\"dataframe\">\n",
       "  <thead>\n",
       "    <tr style=\"text-align: right;\">\n",
       "      <th></th>\n",
       "      <th>ID</th>\n",
       "      <th>LIMIT_BAL</th>\n",
       "      <th>EDUCATION</th>\n",
       "      <th>MARRIAGE</th>\n",
       "      <th>AGE</th>\n",
       "      <th>PAY_1</th>\n",
       "      <th>PAY_2</th>\n",
       "      <th>PAY_3</th>\n",
       "      <th>PAY_4</th>\n",
       "      <th>PAY_5</th>\n",
       "      <th>...</th>\n",
       "      <th>MARRIAGE_INP_2</th>\n",
       "      <th>MARRIAGE_INP_3</th>\n",
       "      <th>PAY_1_range_delay 1 month</th>\n",
       "      <th>PAY_1_range_delay &gt; 1</th>\n",
       "      <th>PAY_2_range_delay &gt; 1</th>\n",
       "      <th>PAY_3_range_delay &gt; 1</th>\n",
       "      <th>PAY_4_range_delay &gt; 1</th>\n",
       "      <th>PAY_5_range_delay &gt; 1</th>\n",
       "      <th>PAY_6_range_delay &gt; 1</th>\n",
       "      <th>SEX_2</th>\n",
       "    </tr>\n",
       "  </thead>\n",
       "  <tbody>\n",
       "    <tr>\n",
       "      <th>0</th>\n",
       "      <td>1</td>\n",
       "      <td>20000</td>\n",
       "      <td>2</td>\n",
       "      <td>1</td>\n",
       "      <td>24</td>\n",
       "      <td>2</td>\n",
       "      <td>2</td>\n",
       "      <td>-1</td>\n",
       "      <td>-1</td>\n",
       "      <td>-2</td>\n",
       "      <td>...</td>\n",
       "      <td>0</td>\n",
       "      <td>0</td>\n",
       "      <td>0</td>\n",
       "      <td>1</td>\n",
       "      <td>1</td>\n",
       "      <td>0</td>\n",
       "      <td>0</td>\n",
       "      <td>0</td>\n",
       "      <td>0</td>\n",
       "      <td>1</td>\n",
       "    </tr>\n",
       "    <tr>\n",
       "      <th>1</th>\n",
       "      <td>2</td>\n",
       "      <td>120000</td>\n",
       "      <td>2</td>\n",
       "      <td>2</td>\n",
       "      <td>26</td>\n",
       "      <td>-1</td>\n",
       "      <td>2</td>\n",
       "      <td>0</td>\n",
       "      <td>0</td>\n",
       "      <td>0</td>\n",
       "      <td>...</td>\n",
       "      <td>1</td>\n",
       "      <td>0</td>\n",
       "      <td>0</td>\n",
       "      <td>0</td>\n",
       "      <td>1</td>\n",
       "      <td>0</td>\n",
       "      <td>0</td>\n",
       "      <td>0</td>\n",
       "      <td>1</td>\n",
       "      <td>1</td>\n",
       "    </tr>\n",
       "    <tr>\n",
       "      <th>2</th>\n",
       "      <td>3</td>\n",
       "      <td>90000</td>\n",
       "      <td>2</td>\n",
       "      <td>2</td>\n",
       "      <td>34</td>\n",
       "      <td>0</td>\n",
       "      <td>0</td>\n",
       "      <td>0</td>\n",
       "      <td>0</td>\n",
       "      <td>0</td>\n",
       "      <td>...</td>\n",
       "      <td>1</td>\n",
       "      <td>0</td>\n",
       "      <td>0</td>\n",
       "      <td>0</td>\n",
       "      <td>0</td>\n",
       "      <td>0</td>\n",
       "      <td>0</td>\n",
       "      <td>0</td>\n",
       "      <td>0</td>\n",
       "      <td>1</td>\n",
       "    </tr>\n",
       "    <tr>\n",
       "      <th>3</th>\n",
       "      <td>4</td>\n",
       "      <td>50000</td>\n",
       "      <td>2</td>\n",
       "      <td>1</td>\n",
       "      <td>37</td>\n",
       "      <td>0</td>\n",
       "      <td>0</td>\n",
       "      <td>0</td>\n",
       "      <td>0</td>\n",
       "      <td>0</td>\n",
       "      <td>...</td>\n",
       "      <td>0</td>\n",
       "      <td>0</td>\n",
       "      <td>0</td>\n",
       "      <td>0</td>\n",
       "      <td>0</td>\n",
       "      <td>0</td>\n",
       "      <td>0</td>\n",
       "      <td>0</td>\n",
       "      <td>0</td>\n",
       "      <td>1</td>\n",
       "    </tr>\n",
       "    <tr>\n",
       "      <th>4</th>\n",
       "      <td>5</td>\n",
       "      <td>50000</td>\n",
       "      <td>2</td>\n",
       "      <td>1</td>\n",
       "      <td>57</td>\n",
       "      <td>-1</td>\n",
       "      <td>0</td>\n",
       "      <td>-1</td>\n",
       "      <td>0</td>\n",
       "      <td>0</td>\n",
       "      <td>...</td>\n",
       "      <td>0</td>\n",
       "      <td>0</td>\n",
       "      <td>0</td>\n",
       "      <td>0</td>\n",
       "      <td>0</td>\n",
       "      <td>0</td>\n",
       "      <td>0</td>\n",
       "      <td>0</td>\n",
       "      <td>0</td>\n",
       "      <td>0</td>\n",
       "    </tr>\n",
       "  </tbody>\n",
       "</table>\n",
       "<p>5 rows × 37 columns</p>\n",
       "</div>"
      ],
      "text/plain": [
       "   ID  LIMIT_BAL  EDUCATION  MARRIAGE  AGE  PAY_1  PAY_2  PAY_3  PAY_4  PAY_5  \\\n",
       "0   1      20000          2         1   24      2      2     -1     -1     -2   \n",
       "1   2     120000          2         2   26     -1      2      0      0      0   \n",
       "2   3      90000          2         2   34      0      0      0      0      0   \n",
       "3   4      50000          2         1   37      0      0      0      0      0   \n",
       "4   5      50000          2         1   57     -1      0     -1      0      0   \n",
       "\n",
       "   ...    MARRIAGE_INP_2  MARRIAGE_INP_3  PAY_1_range_delay 1 month   \\\n",
       "0  ...                 0               0                           0   \n",
       "1  ...                 1               0                           0   \n",
       "2  ...                 1               0                           0   \n",
       "3  ...                 0               0                           0   \n",
       "4  ...                 0               0                           0   \n",
       "\n",
       "   PAY_1_range_delay > 1  PAY_2_range_delay > 1  PAY_3_range_delay > 1  \\\n",
       "0                      1                      1                      0   \n",
       "1                      0                      1                      0   \n",
       "2                      0                      0                      0   \n",
       "3                      0                      0                      0   \n",
       "4                      0                      0                      0   \n",
       "\n",
       "   PAY_4_range_delay > 1  PAY_5_range_delay > 1  PAY_6_range_delay > 1  SEX_2  \n",
       "0                      0                      0                      0      1  \n",
       "1                      0                      0                      1      1  \n",
       "2                      0                      0                      0      1  \n",
       "3                      0                      0                      0      1  \n",
       "4                      0                      0                      0      0  \n",
       "\n",
       "[5 rows x 37 columns]"
      ]
     },
     "execution_count": 194,
     "metadata": {},
     "output_type": "execute_result"
    }
   ],
   "source": [
    "#### CREATE DUMMY VARIABLES\n",
    "#Convert Categorical fields to bool using get_dummies\n",
    "#Use drop_first=true to aviod multicolinierarity\n",
    "### The drop_first=true eliminates the first group of the dummy variable\n",
    "### According to the notes provided of the professor we do this to prevent multicollinearity\n",
    "#### I can see it in the context of regression and logistic regression. We may want to select the group to delet\n",
    "##### The method \"get_dummies\" also ELIMINATES THE ORIGINAL VARIABLE TO CREATE THE dummies\n",
    "\n",
    "#EC: Creating  another reference in MEMORY, so the changes in df will not be REFLECTED IN CREDIT\n",
    "df = credit.copy()\n",
    "\n",
    "\n",
    "\n",
    "df = pd.get_dummies(data=credit, \n",
    "                       columns=['EDUCATION_INP',\n",
    "                                'MARRIAGE_INP', \n",
    "                                'PAY_1_range',\n",
    "                                'PAY_2_range',\n",
    "                                'PAY_3_range',\n",
    "                                'PAY_4_range',\n",
    "                                'PAY_5_range',\n",
    "                                'PAY_6_range',\n",
    "                                'SEX'], drop_first=True) #Try drop_first=true to aviod multicolinierarity\n",
    "\n",
    "\n",
    "\n",
    "\n",
    "\n",
    "\n",
    "\n",
    "df.info()\n",
    "\n",
    "df.head()\n",
    "\n",
    "\n",
    "#credit.info()"
   ]
  },
  {
   "cell_type": "markdown",
   "metadata": {},
   "source": [
    "> Next, additional variables are created to help with the regression and classification analysis. The following variables were created and added to the dataset:\n",
    "* Average bill amount over the 6 month period\n",
    "* Average payment amount over the 6 month period\n",
    "* Ratio of average bill amount to credit limit balance\n",
    "* Ratio of the average payment amount to credit limit balance"
   ]
  },
  {
   "cell_type": "code",
   "execution_count": 195,
   "metadata": {},
   "outputs": [
    {
     "name": "stdout",
     "output_type": "stream",
     "text": [
      "<class 'pandas.core.frame.DataFrame'>\n",
      "RangeIndex: 30000 entries, 0 to 29999\n",
      "Data columns (total 41 columns):\n",
      "ID                            30000 non-null int64\n",
      "LIMIT_BAL                     30000 non-null int64\n",
      "EDUCATION                     30000 non-null int64\n",
      "MARRIAGE                      30000 non-null int64\n",
      "AGE                           30000 non-null int64\n",
      "PAY_1                         30000 non-null int64\n",
      "PAY_2                         30000 non-null int64\n",
      "PAY_3                         30000 non-null int64\n",
      "PAY_4                         30000 non-null int64\n",
      "PAY_5                         30000 non-null int64\n",
      "PAY_6                         30000 non-null int64\n",
      "BILL_AMT1                     30000 non-null int64\n",
      "BILL_AMT2                     30000 non-null int64\n",
      "BILL_AMT3                     30000 non-null int64\n",
      "BILL_AMT4                     30000 non-null int64\n",
      "BILL_AMT5                     30000 non-null int64\n",
      "BILL_AMT6                     30000 non-null int64\n",
      "PAY_AMT1                      30000 non-null int64\n",
      "PAY_AMT2                      30000 non-null int64\n",
      "PAY_AMT3                      30000 non-null int64\n",
      "PAY_AMT4                      30000 non-null int64\n",
      "PAY_AMT5                      30000 non-null int64\n",
      "PAY_AMT6                      30000 non-null int64\n",
      "default_next_m                30000 non-null int64\n",
      "EDUCATION_INP_2               30000 non-null uint8\n",
      "EDUCATION_INP_3               30000 non-null uint8\n",
      "EDUCATION_INP_4               30000 non-null uint8\n",
      "MARRIAGE_INP_2                30000 non-null uint8\n",
      "MARRIAGE_INP_3                30000 non-null uint8\n",
      "PAY_1_range_delay 1 month     30000 non-null uint8\n",
      "PAY_1_range_delay > 1         30000 non-null uint8\n",
      "PAY_2_range_delay > 1         30000 non-null uint8\n",
      "PAY_3_range_delay > 1         30000 non-null uint8\n",
      "PAY_4_range_delay > 1         30000 non-null uint8\n",
      "PAY_5_range_delay > 1         30000 non-null uint8\n",
      "PAY_6_range_delay > 1         30000 non-null uint8\n",
      "SEX_2                         30000 non-null uint8\n",
      "Avg_BILL                      30000 non-null float64\n",
      "Avg_PAY                       30000 non-null float64\n",
      "AvgBill_to_LIMIT_BAL          30000 non-null float64\n",
      "AvgPay_to_LIMIT_BAL           30000 non-null float64\n",
      "dtypes: float64(4), int64(24), uint8(13)\n",
      "memory usage: 6.8 MB\n"
     ]
    }
   ],
   "source": [
    "##### CREATING ADDITIONAL VARIABLES \n",
    "\n",
    "############## CREATING NEW VARIABLES\n",
    "\n",
    "#Average of the bill amount\n",
    "df['Avg_BILL']=(df['BILL_AMT1']+df['BILL_AMT2']+df['BILL_AMT3']+ df['BILL_AMT4']+df['BILL_AMT5']+df['BILL_AMT6']\n",
    "               )/float(6)\n",
    "\n",
    "\n",
    "#Average of the Payment amount\n",
    "\n",
    "df['Avg_PAY']=(df['PAY_AMT1']+df['PAY_AMT2']+df['PAY_AMT3']+df['PAY_AMT4']+df['PAY_AMT5']+df['PAY_AMT6']\n",
    "               )/float(6)\n",
    "\n",
    "#We are constructing the ratio with the average BILL AMOUNT TO LIMIT\n",
    "df['AvgBill_to_LIMIT_BAL']=(df['Avg_BILL']/df['LIMIT_BAL'])\n",
    "\n",
    "\n",
    "#We are constructing the ratio with the  average PAYMENT AMOUNT TO LIMIT\n",
    "df['AvgPay_to_LIMIT_BAL']=(df['Avg_PAY']/df['LIMIT_BAL'])\n",
    "\n",
    "df.info()"
   ]
  },
  {
   "cell_type": "markdown",
   "metadata": {},
   "source": [
    "### Removing variables not needed in the analysis\n",
    ">We will conduct one classification task and one regression task. We will create 2 different objects since we will remove different variables\n",
    "\n",
    "> We first create the object for the classification task"
   ]
  },
  {
   "cell_type": "code",
   "execution_count": 196,
   "metadata": {},
   "outputs": [],
   "source": [
    "### WE CREATE AN OBJECT FOR THE CLASSIFICATION TASK AND OTHER FOR THE REGRESSION TASK\n",
    "\n",
    "# CREATING THE OBJECT FOR THE CLASSIFICATION TASK\n",
    "class_t=df.copy()\n",
    "\n",
    "\n",
    "if 'default_next_m' in class_t:\n",
    "    y_c = class_t['default_next_m'].values\n",
    "    del class_t['default_next_m']\n",
    "    del class_t['ID']\n",
    "    del class_t['EDUCATION']\n",
    "    del class_t['MARRIAGE']\n",
    "    del class_t['PAY_1']\n",
    "    del class_t['PAY_2']\n",
    "    del class_t['PAY_3']\n",
    "    del class_t['PAY_4']\n",
    "    del class_t['PAY_5']\n",
    "    del class_t['PAY_6']\n",
    "    X_c = class_t.values\n",
    "    \n",
    "    \n",
    "    "
   ]
  },
  {
   "cell_type": "markdown",
   "metadata": {},
   "source": [
    "> Then we create the object for the Regression Task"
   ]
  },
  {
   "cell_type": "code",
   "execution_count": 197,
   "metadata": {},
   "outputs": [
    {
     "data": {
      "text/plain": [
       "array([0.0642    , 0.02371806, 0.1882463 , ..., 0.39164444, 0.55543958,\n",
       "       0.76958   ])"
      ]
     },
     "execution_count": 197,
     "metadata": {},
     "output_type": "execute_result"
    }
   ],
   "source": [
    "### WE CREATE AN OBJECT FOR THE CLASSIFICATION TASK AND OTHER FOR THE REGRESSION TASK\n",
    "\n",
    "# CREATING THE OBJECT FOR THE REGRESSION  TASK\n",
    "\n",
    "reg_t=df.copy()\n",
    "\n",
    "\n",
    "if 'AvgBill_to_LIMIT_BAL' in reg_t:\n",
    "    y_r = reg_t['AvgBill_to_LIMIT_BAL'].values\n",
    "    del reg_t['AvgBill_to_LIMIT_BAL']\n",
    "    del reg_t['ID']\n",
    "    del reg_t['EDUCATION']\n",
    "    del reg_t['MARRIAGE']\n",
    "    del reg_t['PAY_1']\n",
    "    del reg_t['PAY_2']\n",
    "    del reg_t['PAY_3']\n",
    "    del reg_t['PAY_4']\n",
    "    del reg_t['PAY_5']\n",
    "    del reg_t['PAY_6']\n",
    "    del reg_t['Avg_BILL']\n",
    "    del reg_t['LIMIT_BAL']\n",
    "    del reg_t['AvgPay_to_LIMIT_BAL']\n",
    "    del reg_t['BILL_AMT1']\n",
    "    del reg_t['BILL_AMT2']\n",
    "    del reg_t['BILL_AMT3']\n",
    "    del reg_t['BILL_AMT4']\n",
    "    del reg_t['BILL_AMT5']\n",
    "    del reg_t['BILL_AMT6']\n",
    "    X_r = reg_t.values\n",
    "\n",
    "#len(y_r)\n",
    "y_r\n",
    "#reg_t.info()"
   ]
  },
  {
   "cell_type": "markdown",
   "metadata": {},
   "source": [
    "# <a name=\"Dataset-Description\"></a>Dataset Description\n",
    "\n",
    ">[5 points] Describe the final dataset that is used for classification/regression (include a description of any newly formed variables you created).\n",
    "\n",
    "# <a name=\"Data-Meaning-Type\"></a>Data Meaning Type\n",
    "*Describe the meaning and type of data (scale, values, etc.) for each attribute in the data file.*\n",
    "\n",
    "> The original dataset contains the following data types:\n",
    "\n",
    "| Variable | Variable Type | Description |\n",
    "| :------: | :-----------: | :----- |\n",
    "| LIMIT_BAL | int64 | The amount of the given credit in New Taiwan dollars.<br/>It includes both the individual consumer credit and his/her family (supplementary) credit |\n",
    "| SEX | int64 | Defines each subjects gender with:<ul><li>1 = Male</li><li>2 = Female</li></ul> |\n",
    "| EDUCATION | int64 | Represents each subject level of education with:<ul><li>1 = Graduate School</li><li>2 = University</li><li>3 = High School</li><li>4 = Other</li></ul> |\n",
    "| MARRIAGE | int64 | Defines the person's relationship status by:<ul><li>1 = Married</li><li>2 = Single</li><li>3 = Other</li></ul> |\n",
    "| AGE | int64 | Defines how old each person is in years |\n",
    "| PAY_0 | int64 | The repayment status in September, 2005 |\n",
    "| PAY_2 | int64 | The repayment status in August, 2005 |\n",
    "| PAY_3 | int64 | The repayment status in July, 2005 |\n",
    "| PAY_4 | int64 | The repayment status in June, 2005 |\n",
    "| PAY_5 | int64 | The repayment status in May, 2005 |\n",
    "| PAY_6 | int64 | The repayment status in April, 2005 |\n",
    "| BILL_AMT1 | int64 | The repayment status in September, 2005 |\n",
    "| BILL_AMT2 | int64 | The repayment status in August, 2005 |\n",
    "| BILL_AMT3 | int64 | The repayment status in July, 2005 |\n",
    "| BILL_AMT4 | int64 | The repayment status in June, 2005 |\n",
    "| BILL_AMT5 | int64 | The repayment status in May, 2005 |\n",
    "| BILL_AMT6 | int64 | The repayment status in April, 2005 |\n",
    "| PAY_AMT1 | int64 | The amount paid in September, 2005 |\n",
    "| PAY_AMT2 | int64 | The amount paid in August, 2005 |\n",
    "| PAY_AMT3 | int64 | The amount paid in July, 2005 |\n",
    "| PAY_AMT4 | int64 | The amount paid in June, 2005 |\n",
    "| PAY_AMT5 | int64 | The amount paid in May, 2005 |\n",
    "| PAY_AMT6 | int64 | The amount paid in April, 2005 |\n",
    "| default payment next month | int64 | A binary value indicating default status with:<ul><li>0 = Customer has defaulted</li><li>1 = Customer has not defaulted</li></ul>|"
   ]
  },
  {
   "cell_type": "markdown",
   "metadata": {},
   "source": [
    "> The following table exhibit the name of the variables with imputed values and the dummy variables for the categorical variables.\n",
    "\n",
    "\n",
    "| Variable | Variable Type | Description |\n",
    "| :------: | :-----------: | :----- |\n",
    "| EDUCATION_INP_2 | uint8 | Dummy variable for education - indicating university grade|\n",
    "| EDUCATION_INP_3 | uint8| Dummy variable for education - indicating high school grade |\n",
    "| EDUCATION_INP_4 | uint8 |  Dummy variable for education - indicating high school grade |\n",
    "| MARRIAGE_INP_2 | uint8 |  Dummy variable for marital status - indicating married |\n",
    "| MARRIAGE_INP_3 | uint8 | Dummy variable for marital status - indicating other |\n",
    "| PAY_1_range_delay 1 month | uint8 | Dummy indicating 1 month delay for September, 2005 |\n",
    "| PAY_1_range_delay > 1 | uint8 | Dummy indicating more than 2 month delay for September, 2005 |\n",
    "| PAY_2_range_delay > 1  | uint8 | Dummy indicating more than 2 month delay for August, 2005 |\n",
    "| PAY_3_range_delay > 1  | uint8 | Dummy indicating more than 2 month delay for July, 2005 |\n",
    "| PAY_4_range_delay > 1  | uint8 | Dummy indicating more than 2 month delay for June, 2005 |\n",
    "| PAY_5_range_delay > 1  | uint8 | Dummy indicating more than 2 month delay for May, 2005 |\n",
    "| PAY_6_range_delay > 1  | uint8 | Dummy indicating more than 2 month delay for April, 2005 |\n",
    "| SEX_2 | uint8 | Dummy variable for sex - indicating female|\n",
    "| Avg_BILL | float64 | Average bill amount over the 6 month period |\n",
    "| Avg_PAY | float64 | Average payment amount over the 6 month period|\n",
    "| AvgBill_to_LIMIT_BAL | float64 | Ratio of average bill amount to credit limit balance |\n",
    "| AvgPay_to_LIMIT_BAL | float64 | Ratio of the average payment amount to credit limit balance |\n",
    "\n",
    "\n"
   ]
  },
  {
   "cell_type": "markdown",
   "metadata": {},
   "source": [
    "### Dataset Description for the classification task"
   ]
  },
  {
   "cell_type": "markdown",
   "metadata": {},
   "source": [
    "> To complete the classification task, we removed columns: 'default_next_m', 'ID','EDUCATION', \"MARRIAGE', and the payment status 'PAY_1 -PAY_6'. The remaining variables include age, payment amounts, default status for next month, the imputed values of education and marital status, delay in repayment status, sex, and average payment amount. The four new created variables, as mentioned above, were added to the classification dataset as well."
   ]
  },
  {
   "cell_type": "markdown",
   "metadata": {},
   "source": [
    "### Dataset Description for the Regression task"
   ]
  },
  {
   "cell_type": "markdown",
   "metadata": {},
   "source": [
    "> To complete the regression task, several columns were removed: 'ID', 'EDUCATION', 'MARRIAGE', 'PAY_1' through 'PAY_6', 'Avg_BILL', 'LIMIT_BAL', 'AvgPay_to_LIMIT_BAL', and 'BILL_AMT1' through 'BILL_AMT6'. The remaining variables include age, payment amounts, default status for next month, the imputed values of education and marital status, delay in repayment status, sex, and average payment amount. Two of the four new created variables, 'Avg_PAY' and 'AvgBill_to_LIMIT_BAL', were added to the regression dataset."
   ]
  },
  {
   "cell_type": "markdown",
   "metadata": {},
   "source": [
    "# <a name=\"Evaluation-Metrics-Description\"></a>Evaluation Metrics Description"
   ]
  },
  {
   "cell_type": "markdown",
   "metadata": {},
   "source": [
    "\n",
    ">[10 points] Choose and explain your evaluation metrics that you will use (i.e., accuracy,\n",
    "precision, recall, F-measure, or any metric we have discussed). Why are the measure(s) appropriate for analyzing the results of your modeling? Give a detailed explanation backing up any assertions."
   ]
  },
  {
   "cell_type": "markdown",
   "metadata": {},
   "source": [
    "## Metrics for Evaluating Regression Models \n",
    "\n",
    "**All regression models created in this notebook are validated using the following metrics:**\n",
    "* Mean Absolute Error (MAE) - https://www.quora.com/Are-there-instances-where-root-mean-squared-error-might-be-used-rather-than-mean-absolute-error\n",
    "* Root Mean Squared Error (RMSE) - https://stackoverflow.com/questions/17197492/root-mean-square-error-in-python\n",
    "* Mean Absolute Percentage Error (MAPE) - https://stackoverflow.com/questions/42250958/how-to-optimize-mape-code-in-python\n",
    "\n",
    "**For details on making scorers to return multiple mean error scores see:**\n",
    "* http://scikit-learn.org/stable/auto_examples/model_selection/plot_multi_metric_evaluation.html\n",
    "* https://github.com/scikit-learn/scikit-learn/pull/7388\n",
    "* https://github.com/drorata/multiscorer"
   ]
  },
  {
   "cell_type": "markdown",
   "metadata": {},
   "source": [
    "> The metrics mentioned above are appropriate for the Regression task since they measure the error of our model. We are calculating the 3 metrics since they can be used differently depending on the usage of the model,the underlying data and they all have specific drawbacks. \n",
    "\n",
    ">RMSE gives a relatively high weight to large errors. This means the RMSE is most useful when large errors are particularly undesirable. For example, let's consider the case of a nuts and bolts manufacturing company. If the width specifications of say, the bolts are 8mm +- 0.1 mm, then any nut that is manufactured by the company with deviation > 0.1 mm is useless. Thus, higher errors are far more undesirable than lower.\n",
    "\n",
    "> One of the drawbacks of MAPE is that cannot be used if there are zero values (which sometimes happens for example in demand data) because there would be a division by zero.\n"
   ]
  },
  {
   "cell_type": "markdown",
   "metadata": {},
   "source": [
    "## Metrics for Evaluating Classification Models \n",
    "\n",
    "**All classification models created in this notebook are validated using the following metric:**\n",
    "* Recall - hhttp://blog.exsilio.com/all/accuracy-precision-recall-f1-score-interpretation-of-performance-measures/\n",
    "\n",
    ">Recall is the ratio of correctly predicted positive observations to all observations in actual class \n",
    ">Recall is especially useful in the presence of unbalanced datasets (i.e. one category with very few observations). The proportion of defaulted borrowers is relatively low and therfore the recall is the metric deemed adequate to measure the performance of the classification task.  "
   ]
  },
  {
   "cell_type": "markdown",
   "metadata": {},
   "source": [
    "# <a name=\"Training-Testing\"></a>Training and Testing Splits method\n",
    "\n",
    ">[10 points] Choose the method you will use for dividing your data into training and testing splits \n",
    "(i.e., are you using Stratified 10-fold cross validation? Why?). Explain why your chosen method is \n",
    "appropriate or use more than one method as appropriate. For example, \n",
    "if you are using time series data then you should be using continuous training and testing sets across time.\n"
   ]
  },
  {
   "cell_type": "markdown",
   "metadata": {},
   "source": [
    "For classifications: We chose to use the stratified sampling method because our data contains a significantly high number of subjects classified as \"0\". Because of this imbalance, there is potential for the algorithm to predict a high number of true negatives and false negitives because of the class imbalance. The stratified cross validation procedure will ensure the training data sets will have approximately the same amount of subjects who defaulted as those who did not and will subsequently protect the algorithm against simpley predicting \"0\" everytime.\n",
    "\n"
   ]
  },
  {
   "cell_type": "code",
   "execution_count": 198,
   "metadata": {},
   "outputs": [],
   "source": [
    "#### DEFINING THE CV OBJECT FOR CLASSIFICATION\n",
    "\n",
    "from sklearn.model_selection import StratifiedShuffleSplit\n",
    "from sklearn.preprocessing import StandardScaler\n",
    "\n",
    "num_cv_iterations = 10\n",
    "\n",
    "cv_object = StratifiedShuffleSplit(n_splits = num_cv_iterations, \n",
    "                            test_size = 0.20, train_size = 0.80, random_state=1)\n",
    "\n",
    "\n",
    "##### We generate the training and testing sample\n",
    "for train_indices, test_indices in cv_object.split(X_c,y_c): \n",
    "    X_c_train = X_c[train_indices]\n",
    "    y_c_train = y_c[train_indices]\n",
    "    \n",
    "    X_c_test = X_c[test_indices]\n",
    "    y_c_test = y_c[test_indices]\n",
    "\n",
    "\n",
    "#### SCALING THE OBJECTS\n",
    "    \n",
    "\n",
    "\n",
    "# we want to normalize the features based upon the mean and standard deviation of each column. \n",
    "# However, we do not want to accidentally use the testing data to find out the mean and std (this would be snooping)\n",
    "# to Make things easier, let's start by just using whatever was last stored in the variables:\n",
    "##    X_train , y_train , X_test, y_test (they were set in a for loop above)\n",
    "\n",
    "# scale attributes by the training set\n",
    "scl_obj = StandardScaler()\n",
    "scl_obj.fit(X_c_train) # find scalings for each column that make this zero mean and unit std\n",
    "# the line of code above only looks at training data to get mean and std and we can use it \n",
    "# to transform new feature data\n",
    "\n",
    "X_c_train_scaled = scl_obj.transform(X_c_train) # apply to training\n",
    "X_c_test_scaled = scl_obj.transform(X_c_test) # apply those means and std to the test set (without snooping at the test set values)\n",
    "    \n",
    "    \n",
    "    \n",
    "    \n",
    "    \n",
    "\n"
   ]
  },
  {
   "cell_type": "markdown",
   "metadata": {},
   "source": [
    ">For regression task, we do not have the imbalance problem and therefore we will use a regular shuffle split."
   ]
  },
  {
   "cell_type": "code",
   "execution_count": 199,
   "metadata": {},
   "outputs": [],
   "source": [
    "#### DEFINING THE CV OBJECT FOR REGRESSION\n",
    "\n",
    "from sklearn.model_selection import ShuffleSplit\n",
    "#cv = ShuffleSplit(n_splits=10, test_size=0.10, random_state=0)\n",
    "#from sklearn.model_selection import StratifiedShuffleSplit\n",
    "\n",
    "num_cv_iterations = 10\n",
    "\n",
    "cv_reg = ShuffleSplit(n_splits = num_cv_iterations, \n",
    "                            test_size = 0.20, train_size = 0.80, random_state=1)\n",
    "\n",
    "\n",
    "##### We generate the training and testing sample\n",
    "for train_indices, test_indices in cv_reg.split(X_r,y_r): \n",
    "    X_r_train = X_r[train_indices]\n",
    "    y_r_train = y_r[train_indices]\n",
    "    \n",
    "    X_r_test = X_r[test_indices]\n",
    "    y_r_test = y_r[test_indices]\n",
    "    \n",
    "    \n",
    "    \n",
    "# we want to normalize the features based upon the mean and standard deviation of each column. \n",
    "# However, we do not want to accidentally use the testing data to find out the mean and std (this would be snooping)\n",
    "# to Make things easier, let's start by just using whatever was last stored in the variables:\n",
    "##    X_train , y_train , X_test, y_test (they were set in a for loop above)\n",
    "\n",
    "# scale attributes by the training set\n",
    "scl_obj_r = StandardScaler()\n",
    "scl_obj_r.fit(X_r_train) # find scalings for each column that make this zero mean and unit std\n",
    "# the line of code above only looks at training data to get mean and std and we can use it \n",
    "# to transform new feature data\n",
    "\n",
    "X_r_train_scaled = scl_obj_r.transform(X_r_train) # apply to training\n",
    "X_r_test_scaled = scl_obj_r.transform(X_r_test) # apply those means and std to the test set (without snooping at the test set values)\n",
    "    \n",
    "    \n",
    "    \n",
    "    \n",
    "\n",
    "\n",
    "#cv_reg"
   ]
  },
  {
   "cell_type": "markdown",
   "metadata": {},
   "source": [
    "# <a name=\"Classification-Task\"></a>Classification Task\n",
    "\n",
    "> [20 points] Create three different classification/regression models for each task (e.g., random forest, KNN, and SVM for task one and the same or different algorithms for task two). Two modeling techniques must be new (but the third could be SVM or logistic regression). Adjust parameters as appropriate to increase generalization performance using your chosen metric. You must investigate different parameters of the algorithms!"
   ]
  },
  {
   "cell_type": "markdown",
   "metadata": {},
   "source": [
    "#### Classification Objective\n",
    "> The purpose of the classification task will be to identify bad/delinquent borrowers in the bank's dataset."
   ]
  },
  {
   "cell_type": "markdown",
   "metadata": {
    "collapsed": true
   },
   "source": [
    "## Random Forest Classification"
   ]
  },
  {
   "cell_type": "code",
   "execution_count": 200,
   "metadata": {},
   "outputs": [
    {
     "name": "stdout",
     "output_type": "stream",
     "text": [
      "confusion matrix\n",
      " [[4111  562]\n",
      " [ 642  685]]\n",
      "\n",
      " *** CLASSIFICATION REPORT ****\n",
      "\n",
      " *** Max Depths is 1\n",
      "             precision    recall  f1-score   support\n",
      "\n",
      "          0       0.86      0.88      0.87      4673\n",
      "          1       0.55      0.52      0.53      1327\n",
      "\n",
      "avg / total       0.80      0.80      0.80      6000\n",
      "\n",
      "confusion matrix\n",
      " [[4121  552]\n",
      " [ 646  681]]\n",
      "\n",
      " *** CLASSIFICATION REPORT ****\n",
      "\n",
      " *** Max Depths is 2\n",
      "             precision    recall  f1-score   support\n",
      "\n",
      "          0       0.86      0.88      0.87      4673\n",
      "          1       0.55      0.51      0.53      1327\n",
      "\n",
      "avg / total       0.80      0.80      0.80      6000\n",
      "\n",
      "confusion matrix\n",
      " [[3960  713]\n",
      " [ 571  756]]\n",
      "\n",
      " *** CLASSIFICATION REPORT ****\n",
      "\n",
      " *** Max Depths is 3\n",
      "             precision    recall  f1-score   support\n",
      "\n",
      "          0       0.87      0.85      0.86      4673\n",
      "          1       0.51      0.57      0.54      1327\n",
      "\n",
      "avg / total       0.79      0.79      0.79      6000\n",
      "\n",
      "confusion matrix\n",
      " [[3895  778]\n",
      " [ 557  770]]\n",
      "\n",
      " *** CLASSIFICATION REPORT ****\n",
      "\n",
      " *** Max Depths is 4\n",
      "             precision    recall  f1-score   support\n",
      "\n",
      "          0       0.87      0.83      0.85      4673\n",
      "          1       0.50      0.58      0.54      1327\n",
      "\n",
      "avg / total       0.79      0.78      0.78      6000\n",
      "\n",
      "confusion matrix\n",
      " [[3878  795]\n",
      " [ 543  784]]\n",
      "\n",
      " *** CLASSIFICATION REPORT ****\n",
      "\n",
      " *** Max Depths is 5\n",
      "             precision    recall  f1-score   support\n",
      "\n",
      "          0       0.88      0.83      0.85      4673\n",
      "          1       0.50      0.59      0.54      1327\n",
      "\n",
      "avg / total       0.79      0.78      0.78      6000\n",
      "\n",
      "confusion matrix\n",
      " [[3913  760]\n",
      " [ 560  767]]\n",
      "\n",
      " *** CLASSIFICATION REPORT ****\n",
      "\n",
      " *** Max Depths is 6\n",
      "             precision    recall  f1-score   support\n",
      "\n",
      "          0       0.87      0.84      0.86      4673\n",
      "          1       0.50      0.58      0.54      1327\n",
      "\n",
      "avg / total       0.79      0.78      0.79      6000\n",
      "\n",
      "confusion matrix\n",
      " [[3935  738]\n",
      " [ 558  769]]\n",
      "\n",
      " *** CLASSIFICATION REPORT ****\n",
      "\n",
      " *** Max Depths is 7\n",
      "             precision    recall  f1-score   support\n",
      "\n",
      "          0       0.88      0.84      0.86      4673\n",
      "          1       0.51      0.58      0.54      1327\n",
      "\n",
      "avg / total       0.79      0.78      0.79      6000\n",
      "\n",
      "confusion matrix\n",
      " [[3943  730]\n",
      " [ 574  753]]\n",
      "\n",
      " *** CLASSIFICATION REPORT ****\n",
      "\n",
      " *** Max Depths is 8\n",
      "             precision    recall  f1-score   support\n",
      "\n",
      "          0       0.87      0.84      0.86      4673\n",
      "          1       0.51      0.57      0.54      1327\n",
      "\n",
      "avg / total       0.79      0.78      0.79      6000\n",
      "\n",
      "confusion matrix\n",
      " [[3960  713]\n",
      " [ 578  749]]\n",
      "\n",
      " *** CLASSIFICATION REPORT ****\n",
      "\n",
      " *** Max Depths is 9\n",
      "             precision    recall  f1-score   support\n",
      "\n",
      "          0       0.87      0.85      0.86      4673\n",
      "          1       0.51      0.56      0.54      1327\n",
      "\n",
      "avg / total       0.79      0.78      0.79      6000\n",
      "\n",
      "confusion matrix\n",
      " [[4016  657]\n",
      " [ 590  737]]\n",
      "\n",
      " *** CLASSIFICATION REPORT ****\n",
      "\n",
      " *** Max Depths is 10\n",
      "             precision    recall  f1-score   support\n",
      "\n",
      "          0       0.87      0.86      0.87      4673\n",
      "          1       0.53      0.56      0.54      1327\n",
      "\n",
      "avg / total       0.80      0.79      0.79      6000\n",
      "\n"
     ]
    }
   ],
   "source": [
    "# Source:\n",
    "# http://scikit-learn.org/stable/modules/generated/sklearn.ensemble.RandomForestClassifier.html\n",
    "\n",
    "from sklearn.ensemble import RandomForestClassifier\n",
    "from sklearn.datasets import make_classification\n",
    "from sklearn import metrics as mt\n",
    "\n",
    "depths = [1,2,3,4,5,6,7,8,9,10]\n",
    "\n",
    "for depth in depths:\n",
    "    clf = RandomForestClassifier(max_depth=depth, random_state=0, class_weight='balanced',\n",
    "                                max_features='auto', n_estimators=100, bootstrap=True)\n",
    "    model_rf = clf.fit(X_c_train, y_c_train)\n",
    "    y_hat = clf.predict(X_c_test)\n",
    "\n",
    "    # now let's get the accuracy and confusion matrix for this iterations of training/testing\n",
    "    acc = mt.accuracy_score(y_c_test,y_hat)\n",
    "    conf = mt.confusion_matrix(y_c_test,y_hat)\n",
    "    #print(\"accuracy\", acc )\n",
    "    print(\"confusion matrix\\n\",conf)\n",
    "\n",
    "    print(\"\\n *** CLASSIFICATION REPORT ****\")\n",
    "    print(\"\\n *** Max Depths is\", depth)\n",
    "    #### CLASSIFICATION REPORT\n",
    "    ClassReport = mt.classification_report(y_c_test,y_hat)\n",
    "    print(ClassReport)\n",
    "\n"
   ]
  },
  {
   "cell_type": "code",
   "execution_count": 201,
   "metadata": {},
   "outputs": [
    {
     "name": "stdout",
     "output_type": "stream",
     "text": [
      "Let's see our changing the class_weight parameter to None impacts the precision and recall:\n",
      "\n",
      "Confusion matrix\n",
      " [[4415  258]\n",
      " [ 848  479]]\n",
      "\n",
      " *** CLASSIFICATION REPORT ****\n",
      "             precision    recall  f1-score   support\n",
      "\n",
      "          0       0.84      0.94      0.89      4673\n",
      "          1       0.65      0.36      0.46      1327\n",
      "\n",
      "avg / total       0.80      0.82      0.79      6000\n",
      "\n"
     ]
    }
   ],
   "source": [
    "print('Let\\'s see our changing the class_weight parameter to None impacts the precision and recall:\\n')\n",
    "clf = RandomForestClassifier(max_depth=None, min_samples_split=2, random_state=0, class_weight=None,\n",
    "                             max_features='auto', n_estimators=100, bootstrap=True)\n",
    "model_rf = clf.fit(X_c_train, y_c_train)\n",
    "y_hat = clf.predict(X_c_test)\n",
    "\n",
    "# now let's get the accuracy and confusion matrix for this iterations of training/testing\n",
    "acc = mt.accuracy_score(y_c_test,y_hat)\n",
    "conf = mt.confusion_matrix(y_c_test,y_hat)\n",
    "#print(\"accuracy\", acc )\n",
    "print(\"Confusion matrix\\n\",conf)\n",
    "\n",
    "print(\"\\n *** CLASSIFICATION REPORT ****\")\n",
    "#### CLASSIFICATION REPORT\n",
    "ClassReport = mt.classification_report(y_c_test,y_hat)\n",
    "print(ClassReport)"
   ]
  },
  {
   "cell_type": "markdown",
   "metadata": {},
   "source": [
    "> By incrementally increasing the max_depths parameter we can see how the recall of the Random Forest classification model can be improved, albeit at the cost of precision. Around max_depths of 5 is when the decrease of precision outweighs the marginal increase in recall. Consequently, we will move on to adjusting parameters with a max_depths value of 5.\n",
    "\n",
    "> It appears that changing the class_weight parameter from 'balanced' to None detrimentally impacts the recall of classifying who is and isn't going to default on their credit. The input parameter for class_weight will remain as 'balanced.'"
   ]
  },
  {
   "cell_type": "code",
   "execution_count": 202,
   "metadata": {},
   "outputs": [
    {
     "name": "stdout",
     "output_type": "stream",
     "text": [
      "Confusion matrix\n",
      " [[3873  800]\n",
      " [ 548  779]]\n",
      "\n",
      " *** CLASSIFICATION REPORT ****\n",
      "             precision    recall  f1-score   support\n",
      "\n",
      "          0       0.88      0.83      0.85      4673\n",
      "          1       0.49      0.59      0.54      1327\n",
      "\n",
      "avg / total       0.79      0.78      0.78      6000\n",
      "\n"
     ]
    }
   ],
   "source": [
    "clf = RandomForestClassifier(max_depth=5, min_samples_split=2, random_state=0, class_weight='balanced',\n",
    "                             max_features='auto', n_estimators=500, bootstrap=True)\n",
    "model_rf = clf.fit(X_c_train, y_c_train)\n",
    "y_hat = clf.predict(X_c_test)\n",
    "\n",
    "# now let's get the accuracy and confusion matrix for this iterations of training/testing\n",
    "acc = mt.accuracy_score(y_c_test,y_hat)\n",
    "conf = mt.confusion_matrix(y_c_test,y_hat)\n",
    "print(\"Confusion matrix\\n\",conf)\n",
    "\n",
    "print(\"\\n *** CLASSIFICATION REPORT ****\")\n",
    "#### CLASSIFICATION REPORT\n",
    "ClassReport = mt.classification_report(y_c_test,y_hat)\n",
    "print(ClassReport)"
   ]
  },
  {
   "cell_type": "markdown",
   "metadata": {},
   "source": [
    "> After much tinkering, the model that offers the best balance between precision and recall involves the following input parameters:\n",
    "\n",
    "* Max depths of 5\n",
    "* Min_samples_split of 2\n",
    "* Balanced class_weight\n",
    "* 500 n_estimators"
   ]
  },
  {
   "cell_type": "code",
   "execution_count": 203,
   "metadata": {},
   "outputs": [
    {
     "name": "stdout",
     "output_type": "stream",
     "text": [
      "name                             score\n",
      "PAY_1_range_delay > 1      0.265911\n",
      "PAY_2_range_delay > 1      0.177077\n",
      "PAY_3_range_delay > 1      0.0993419\n",
      "PAY_4_range_delay > 1      0.0668477\n",
      "PAY_5_range_delay > 1      0.0615964\n",
      "Avg_PAY                    0.0522552\n",
      "PAY_6_range_delay > 1      0.0390754\n",
      "PAY_AMT1                   0.0376743\n",
      "LIMIT_BAL                  0.0270168\n",
      "AvgBill_to_LIMIT_BAL       0.0266756\n",
      "PAY_AMT2                   0.0233533\n",
      "PAY_1_range_delay 1 month  0.0174449\n",
      "PAY_AMT3                   0.0164693\n",
      "PAY_AMT4                   0.0134557\n",
      "Avg_BILL                   0.013123\n",
      "PAY_AMT6                   0.0109716\n",
      "BILL_AMT1                  0.00889782\n",
      "AvgPay_to_LIMIT_BAL        0.00731515\n",
      "BILL_AMT2                  0.00723592\n",
      "PAY_AMT5                   0.00707999\n",
      "BILL_AMT3                  0.00517733\n",
      "BILL_AMT5                  0.00496441\n",
      "BILL_AMT4                  0.00391474\n",
      "BILL_AMT6                  0.00346256\n",
      "AGE                        0.00192295\n",
      "EDUCATION_INP_4            0.00074076\n",
      "SEX_2                      0.000347426\n",
      "MARRIAGE_INP_2             0.000269609\n",
      "EDUCATION_INP_3            0.000175999\n",
      "EDUCATION_INP_2            0.000145927\n",
      "MARRIAGE_INP_3             6.08715e-05\n"
     ]
    }
   ],
   "source": [
    "# View a list of the features and their importance scores\n",
    "# Source:\n",
    "# http://www.markhneedham.com/blog/2017/06/16/scikit-learn-random-forests-feature-importance/\n",
    "# https://chrisalbon.com/machine_learning/trees_and_forests/random_forest_classifier_example/\n",
    "\n",
    "from tabulate import tabulate\n",
    "headers = ['name', 'score']\n",
    "values = sorted(zip(class_t.columns, model_rf.feature_importances_), key=lambda x: x[1] * -1)\n",
    "rf_feature_importance = tabulate(values, headers, tablefmt=\"plain\")\n",
    "print(rf_feature_importance)"
   ]
  },
  {
   "cell_type": "markdown",
   "metadata": {
    "collapsed": true
   },
   "source": [
    "## KNN Classification"
   ]
  },
  {
   "cell_type": "code",
   "execution_count": 204,
   "metadata": {},
   "outputs": [
    {
     "name": "stdout",
     "output_type": "stream",
     "text": [
      "\n",
      "Accuracy of l1 metrics is 52.63333333333333 %\n",
      "\n",
      "Accuracy of l2 metrics is 53.6 %\n",
      "\n",
      "Accuracy of cosine metrics is 54.46666666666666 %\n",
      "\n",
      "The beast measurment of distance is cosine\n"
     ]
    }
   ],
   "source": [
    "from sklearn.neighbors.nearest_centroid import NearestCentroid\n",
    "\n",
    "#checking for the best distance measurment\n",
    "for d in ['l1','l2','cosine']:\n",
    "    clf = NearestCentroid(metric=d)\n",
    "    clf.fit(X_c_train, y_c_train)\n",
    "    KNNyhat2 = clf.predict(X_c_test)\n",
    "    KNNacc2 = mt.accuracy_score(y_c_test,KNNyhat2)\n",
    "    print('\\nAccuracy of', d, 'metrics is', KNNacc2 * 100, '%')   \n",
    "\n",
    "print('\\nThe beast measurment of distance is cosine')"
   ]
  },
  {
   "cell_type": "code",
   "execution_count": 205,
   "metadata": {},
   "outputs": [
    {
     "name": "stdout",
     "output_type": "stream",
     "text": [
      "Accuracy of 1 neighbors is 69.93333333333334 %\n",
      "Accuracy of 2 neighbors is 76.53333333333333 %\n",
      "Accuracy of 4 neighbors is 77.64999999999999 %\n",
      "Accuracy of 8 neighbors is 78.08333333333334 %\n",
      "\n",
      "The best accuracy is 0.780833 with 8 neighbor(s)\n"
     ]
    }
   ],
   "source": [
    "from sklearn.neighbors import KNeighborsClassifier\n",
    "\n",
    "max_accs3 = 0\n",
    "max_k3 = 0\n",
    "\n",
    "#checking or the best number of neighbors\n",
    "for k in range(1,10):\n",
    "    clf = KNeighborsClassifier(n_neighbors=k, weights='uniform', metric='cosine')\n",
    "    clf.fit(X_c_train, y_c_train)\n",
    "    KNNyhat3 = clf.predict(X_c_test)\n",
    "    KNNacc3 = mt.accuracy_score(y_c_test,KNNyhat3)\n",
    "    if max(max_accs3, KNNacc3) == KNNacc3:\n",
    "        max_accs3 = KNNacc3\n",
    "        max_k3 = k\n",
    "        print('Accuracy of', k, 'neighbors is', KNNacc3 * 100, '%')\n",
    "\n",
    "print('\\nThe best accuracy is %f with %d neighbor(s)'%(max_accs3,max_k3))\n",
    "\n"
   ]
  },
  {
   "cell_type": "code",
   "execution_count": 206,
   "metadata": {},
   "outputs": [
    {
     "name": "stdout",
     "output_type": "stream",
     "text": [
      "Accuracy of 8 neighbors is 78.08333333333334\n",
      "confusion matrix\n",
      " [[3873  800]\n",
      " [ 548  779]]\n",
      "\n",
      " *** CLASSIFICATION REPORT ****\n",
      "             precision    recall  f1-score   support\n",
      "\n",
      "          0       0.79      0.97      0.87      4673\n",
      "          1       0.52      0.11      0.18      1327\n",
      "\n",
      "avg / total       0.73      0.78      0.72      6000\n",
      "\n",
      "recall is: 0.5983421250941975\n"
     ]
    }
   ],
   "source": [
    "from sklearn.cross_validation import StratifiedShuffleSplit\n",
    "from sklearn.neighbors import KNeighborsClassifier\n",
    "from sklearn.metrics import accuracy_score\n",
    "from IPython.html import widgets \n",
    "from sklearn.metrics import accuracy_score \n",
    "from sklearn import metrics as mt\n",
    "\n",
    "\n",
    "\n",
    "#the below KNN model has been adjusted to have 8 nearest neighbors and its using the distance metric 'cosine' to measure\n",
    "#for k in range():\n",
    "clf = KNeighborsClassifier(n_neighbors=8, weights='uniform', metric='cosine')\n",
    "clf.fit(X_c_train, y_c_train)\n",
    "KNNyhat = clf.predict(X_c_test)\n",
    "KNNacc = mt.accuracy_score(y_c_test,KNNyhat)\n",
    "\n",
    "print('Accuracy of 8 neighbors is', KNNacc * 100)\n",
    "\n",
    "# now let's get the accuracy and confusion matrix for this iterations of training/testing\n",
    "print(\"confusion matrix\\n\",conf)\n",
    "\n",
    "print(\"\\n *** CLASSIFICATION REPORT ****\")\n",
    "#### CLASSIFICATION REPORT\n",
    "ClassReportKNN = mt.classification_report(y_c_test,KNNyhat)\n",
    "print(ClassReportKNN)\n",
    "\n",
    "KNNrecall2 = mt.recall_score(y_c_test,KNNyhat2)\n",
    "print('recall is:',KNNrecall2)\n"
   ]
  },
  {
   "cell_type": "markdown",
   "metadata": {},
   "source": [
    "For the KNN classification we used the classification report to measure how well the model performed. We found the best KNN model used the cosine distance metric and used 8 nearest neighbors. It had an average precision of .73 which means 73% of the time it is correctly classifying the observation correctly. This model had an average recall of .78 which means it has the ability to classify all of the positives samples at 78%. Finally it had an F1 score or .72 which shows this is a relatively strong model because the F1 score weighs all data points equally. Since by chance there is a 50% chance of classifying a subject correctly, this model would be useful to help better correctly classify someone to see if they will default or not."
   ]
  },
  {
   "cell_type": "markdown",
   "metadata": {},
   "source": [
    "## Logistic Regression Classification"
   ]
  },
  {
   "cell_type": "code",
   "execution_count": 207,
   "metadata": {},
   "outputs": [
    {
     "name": "stdout",
     "output_type": "stream",
     "text": [
      "Fitting 10 folds for each of 4 candidates, totalling 40 fits\n"
     ]
    },
    {
     "name": "stderr",
     "output_type": "stream",
     "text": [
      "[Parallel(n_jobs=1)]: Done  40 out of  40 | elapsed:   34.3s finished\n"
     ]
    },
    {
     "data": {
      "text/plain": [
       "GridSearchCV(cv=StratifiedShuffleSplit(n_splits=10, random_state=1, test_size=0.2,\n",
       "            train_size=0.8),\n",
       "       error_score='raise',\n",
       "       estimator=LogisticRegression(C=1.0, class_weight=None, dual=False, fit_intercept=True,\n",
       "          intercept_scaling=1, max_iter=100, multi_class='ovr', n_jobs=1,\n",
       "          penalty='l2', random_state=None, solver='liblinear', tol=0.0001,\n",
       "          verbose=0, warm_start=False),\n",
       "       fit_params=None, iid=True, n_jobs=1,\n",
       "       param_grid={'penalty': ('l1', 'l2'), 'C': [1], 'class_weight': ['balanced', None]},\n",
       "       pre_dispatch='2*n_jobs', refit=True, return_train_score='warn',\n",
       "       scoring='recall', verbose=1)"
      ]
     },
     "execution_count": 207,
     "metadata": {},
     "output_type": "execute_result"
    }
   ],
   "source": [
    "# run logistic regression and vary some parameters\n",
    "from sklearn.linear_model import LogisticRegression\n",
    "from sklearn import metrics as mt\n",
    "from time import time\n",
    "\n",
    "\n",
    "#lr_clf = LogisticRegression(penalty='l2', C=1.0, class_weight=None) # get object\n",
    "lr_clf = LogisticRegression()\n",
    "\n",
    "#class_weight='balanced'\n",
    "\n",
    "parameters = {'penalty':('l1','l2'),'C':[1],'class_weight': ['balanced',None]}\n",
    "\n",
    "#parameters = {'normalize':(True,False), 'fit_intercept':(True,False)}\n",
    "#'kernel':('linear', 'rbf')\n",
    "\n",
    "#\n",
    "'''\n",
    "parameters = { 'penalty':['l2']\n",
    "              ,'C': [0.001, 0.01, 0.1, 1, 10, 100, 1000]\n",
    "              ,'class_weight': ['balanced',None]\n",
    "              ,'solver': ['lbfgs']\n",
    "              ,'max_iter':[100,500]\n",
    "             }\n",
    "'''\n",
    "\n",
    "\n",
    "#'accuracy'\n",
    "\n",
    "#Create a grid search object using the  \n",
    "from sklearn.model_selection import GridSearchCV\n",
    "LogregGridSearch = GridSearchCV(estimator=lr_clf\n",
    "                   , verbose=1 # low verbosity\n",
    "                   , param_grid=parameters\n",
    "                   , cv=cv_object # KFolds = 10\n",
    "                   , scoring='recall')\n",
    "\n",
    "#Perform hyperparameter search to find the best combination of parameters for our data\n",
    "#regGridSearch.fit(X_r, y_r)\n",
    "LogregGridSearch.fit(X_c, y_c)\n"
   ]
  },
  {
   "cell_type": "code",
   "execution_count": 208,
   "metadata": {},
   "outputs": [
    {
     "data": {
      "text/plain": [
       "LogisticRegression(C=1, class_weight='balanced', dual=False,\n",
       "          fit_intercept=True, intercept_scaling=1, max_iter=100,\n",
       "          multi_class='ovr', n_jobs=1, penalty='l2', random_state=None,\n",
       "          solver='liblinear', tol=0.0001, verbose=0, warm_start=False)"
      ]
     },
     "execution_count": 208,
     "metadata": {},
     "output_type": "execute_result"
    }
   ],
   "source": [
    "#Print the parameterization of the best estimator\n",
    "LogregGridSearch.best_estimator_"
   ]
  },
  {
   "cell_type": "code",
   "execution_count": 209,
   "metadata": {},
   "outputs": [],
   "source": [
    "### WE RUN A LOGISTIC REGRESSION WITH THE BEST CONFIGURATION\n",
    "\n",
    "#We set to the best regression configuration obtained\n",
    "LogregEstimator = LogregGridSearch.best_estimator_\n",
    "\n",
    "\n",
    "\n",
    "LogregEstimator.fit(X_c_train,y_c_train)  # train object\n",
    "\n",
    "y_c_hat = LogregEstimator.predict(X_c_test) # get test set precition\n"
   ]
  },
  {
   "cell_type": "code",
   "execution_count": 210,
   "metadata": {},
   "outputs": [],
   "source": [
    "def EvaluateClassifierEstimator(classifierEstimator, X, y, cv):\n",
    "   \n",
    "    #Perform cross validation - it had X_highSchools and Y, I am going to change it to X and y\n",
    "    scores = cross_validate(classifierEstimator, X, y, scoring=['accuracy','precision','recall']\n",
    "                            , cv=cv, return_train_score=True)\n",
    "\n",
    "    Accavg = scores['test_accuracy'].mean()\n",
    "    Preavg = scores['test_precision'].mean()\n",
    "    Recavg = scores['test_recall'].mean()\n",
    "\n",
    "    print_str = \"The average accuracy for all cv folds is: \\t\\t\\t {Accavg:.5}\"\n",
    "    print_str2 = \"The average precision for all cv folds is: \\t\\t\\t {Preavg:.5}\"\n",
    "    print_str3 = \"The average recall for all cv folds is: \\t\\t\\t {Recavg:.5}\"\n",
    "\n",
    "    print(print_str.format(Accavg=Accavg))\n",
    "    print(print_str2.format(Preavg=Preavg))\n",
    "    print(print_str3.format(Recavg=Recavg))\n",
    "    print('*********************************************************')\n",
    "\n",
    "    print('Cross Validation Fold Mean Error Scores')\n",
    "    scoresResults = pd.DataFrame()\n",
    "    scoresResults['Accuracy'] = scores['test_accuracy']\n",
    "    scoresResults['Precision'] = scores['test_precision']\n",
    "    scoresResults['Recall'] = scores['test_recall']\n",
    "\n",
    "    return scoresResults"
   ]
  },
  {
   "cell_type": "code",
   "execution_count": 211,
   "metadata": {},
   "outputs": [
    {
     "name": "stdout",
     "output_type": "stream",
     "text": [
      "The average accuracy for all cv folds is: \t\t\t 0.6398\n",
      "The average precision for all cv folds is: \t\t\t 0.36476\n",
      "The average recall for all cv folds is: \t\t\t 0.65863\n",
      "*********************************************************\n",
      "Cross Validation Fold Mean Error Scores\n"
     ]
    },
    {
     "data": {
      "text/html": [
       "<div>\n",
       "<style scoped>\n",
       "    .dataframe tbody tr th:only-of-type {\n",
       "        vertical-align: middle;\n",
       "    }\n",
       "\n",
       "    .dataframe tbody tr th {\n",
       "        vertical-align: top;\n",
       "    }\n",
       "\n",
       "    .dataframe thead th {\n",
       "        text-align: right;\n",
       "    }\n",
       "</style>\n",
       "<table border=\"1\" class=\"dataframe\">\n",
       "  <thead>\n",
       "    <tr style=\"text-align: right;\">\n",
       "      <th></th>\n",
       "      <th>Accuracy</th>\n",
       "      <th>Precision</th>\n",
       "      <th>Recall</th>\n",
       "    </tr>\n",
       "  </thead>\n",
       "  <tbody>\n",
       "    <tr>\n",
       "      <th>0</th>\n",
       "      <td>0.542000</td>\n",
       "      <td>0.287974</td>\n",
       "      <td>0.727204</td>\n",
       "    </tr>\n",
       "    <tr>\n",
       "      <th>1</th>\n",
       "      <td>0.774333</td>\n",
       "      <td>0.490239</td>\n",
       "      <td>0.510927</td>\n",
       "    </tr>\n",
       "    <tr>\n",
       "      <th>2</th>\n",
       "      <td>0.695000</td>\n",
       "      <td>0.389548</td>\n",
       "      <td>0.668425</td>\n",
       "    </tr>\n",
       "    <tr>\n",
       "      <th>3</th>\n",
       "      <td>0.572167</td>\n",
       "      <td>0.301663</td>\n",
       "      <td>0.710625</td>\n",
       "    </tr>\n",
       "    <tr>\n",
       "      <th>4</th>\n",
       "      <td>0.559333</td>\n",
       "      <td>0.292468</td>\n",
       "      <td>0.699322</td>\n",
       "    </tr>\n",
       "    <tr>\n",
       "      <th>5</th>\n",
       "      <td>0.784500</td>\n",
       "      <td>0.512057</td>\n",
       "      <td>0.544084</td>\n",
       "    </tr>\n",
       "    <tr>\n",
       "      <th>6</th>\n",
       "      <td>0.562000</td>\n",
       "      <td>0.292239</td>\n",
       "      <td>0.689525</td>\n",
       "    </tr>\n",
       "    <tr>\n",
       "      <th>7</th>\n",
       "      <td>0.591833</td>\n",
       "      <td>0.316547</td>\n",
       "      <td>0.729465</td>\n",
       "    </tr>\n",
       "    <tr>\n",
       "      <th>8</th>\n",
       "      <td>0.764667</td>\n",
       "      <td>0.474566</td>\n",
       "      <td>0.597589</td>\n",
       "    </tr>\n",
       "    <tr>\n",
       "      <th>9</th>\n",
       "      <td>0.552167</td>\n",
       "      <td>0.290253</td>\n",
       "      <td>0.709118</td>\n",
       "    </tr>\n",
       "  </tbody>\n",
       "</table>\n",
       "</div>"
      ],
      "text/plain": [
       "   Accuracy  Precision    Recall\n",
       "0  0.542000   0.287974  0.727204\n",
       "1  0.774333   0.490239  0.510927\n",
       "2  0.695000   0.389548  0.668425\n",
       "3  0.572167   0.301663  0.710625\n",
       "4  0.559333   0.292468  0.699322\n",
       "5  0.784500   0.512057  0.544084\n",
       "6  0.562000   0.292239  0.689525\n",
       "7  0.591833   0.316547  0.729465\n",
       "8  0.764667   0.474566  0.597589\n",
       "9  0.552167   0.290253  0.709118"
      ]
     },
     "execution_count": 211,
     "metadata": {},
     "output_type": "execute_result"
    }
   ],
   "source": [
    "#We set to the best regression configuration obtained\n",
    "LogregEstimator = LogregGridSearch.best_estimator_\n",
    "\n",
    "#Evaluate the regression estimator above using our pre-defined cross validation and scoring metrics. \n",
    "#EvaluateRegressionEstimator(regEstimator, X_r, y_r, cv_reg)\n",
    "EvaluateClassifierEstimator(LogregEstimator, X_c, y_c, cv_object)"
   ]
  },
  {
   "cell_type": "markdown",
   "metadata": {},
   "source": [
    "## Feature Importance for Logistic Regression\n",
    "\n",
    ">In this section, we will identify the most important factors based upon the magnitude of the coefficient in the logistic regression. For that purpose, we will standardize the variables to eliminate the fact of having variables in different scales."
   ]
  },
  {
   "cell_type": "code",
   "execution_count": 212,
   "metadata": {},
   "outputs": [
    {
     "name": "stdout",
     "output_type": "stream",
     "text": [
      "BILL_AMT1 has weight of -0.22589298062979066\n",
      "LIMIT_BAL has weight of -0.1924295056061685\n",
      "PAY_AMT1 has weight of -0.17583965286014672\n",
      "EDUCATION_INP_4 has weight of -0.11301917019286645\n",
      "PAY_AMT2 has weight of -0.0868317352554969\n",
      "Avg_PAY has weight of -0.0865954163142371\n",
      "SEX_2 has weight of -0.08142093569480992\n",
      "MARRIAGE_INP_2 has weight of -0.08068954661572847\n",
      "BILL_AMT6 has weight of -0.0482536503305393\n",
      "AvgBill_to_LIMIT_BAL has weight of -0.041314829981183715\n",
      "BILL_AMT4 has weight of -0.03688929128250718\n",
      "PAY_AMT3 has weight of -0.021724781397046783\n",
      "BILL_AMT5 has weight of -0.016407356765247225\n",
      "PAY_AMT5 has weight of -0.010175574475913612\n",
      "EDUCATION_INP_3 has weight of -0.007417132681260596\n",
      "PAY_AMT6 has weight of -0.0010321213250413636\n",
      "MARRIAGE_INP_3 has weight of 0.00010904450010044442\n",
      "PAY_AMT4 has weight of 0.0029239544677827378\n",
      "Avg_BILL has weight of 0.007059020693161387\n",
      "AvgPay_to_LIMIT_BAL has weight of 0.007890234063440712\n",
      "EDUCATION_INP_2 has weight of 0.008424166995491283\n",
      "AGE has weight of 0.05321736653666829\n",
      "PAY_4_range_delay > 1 has weight of 0.0772421650259027\n",
      "PAY_5_range_delay > 1 has weight of 0.079878579958313\n",
      "PAY_2_range_delay > 1 has weight of 0.0835643088869588\n",
      "BILL_AMT3 has weight of 0.08906620473626183\n",
      "PAY_6_range_delay > 1 has weight of 0.09237945260211364\n",
      "PAY_3_range_delay > 1 has weight of 0.12609772655582066\n",
      "PAY_1_range_delay 1 month  has weight of 0.2554805992754037\n",
      "BILL_AMT2 has weight of 0.2738217437519175\n",
      "PAY_1_range_delay > 1 has weight of 0.6210017497510312\n"
     ]
    }
   ],
   "source": [
    "from sklearn.preprocessing import StandardScaler\n",
    "\n",
    "# we want to normalize the features based upon the mean and standard deviation of each column. \n",
    "# However, we do not want to accidentally use the testing data to find out the mean and std (this would be snooping)\n",
    "# to Make things easier, let's start by just using whatever was last stored in the variables:\n",
    "##    X_train , y_train , X_test, y_test (they were set in a for loop above)\n",
    "\n",
    "# scale attributes by the training set\n",
    "#scl_obj = StandardScaler()\n",
    "#scl_obj.fit(X_c_train) # find scalings for each column that make this zero mean and unit std\n",
    "# the line of code above only looks at training data to get mean and std and we can use it \n",
    "# to transform new feature data\n",
    "\n",
    "#X_train_scaled = scl_obj.transform(X_train) # apply to training\n",
    "#X_test_scaled = scl_obj.transform(X_test) # apply those means and std to the test set (without snooping at the test set values)\n",
    "\n",
    "# train the model just as before\n",
    "#lr_clf = LogisticRegression(penalty='l2', C=1, class_weight='balanced') # get object, the 'C' value is less (can you guess why??)\n",
    "\n",
    "\n",
    "\n",
    "LogregEstimator.fit(X_c_train_scaled, y_c_train)\n",
    "\n",
    "#lr_clf.fit(X_train_scaled,y_train)  # train object\n",
    "\n",
    "y_c_hat = LogregEstimator.predict(X_c_test_scaled) # get test set precitions\n",
    "\n",
    "#recall = mt.recall_score(y_c_test,y_c_hat)\n",
    "#conf = mt.confusion_matrix(y_c_test,y_c_hat)\n",
    "#print('Recall:', recall )\n",
    "#print(conf)\n",
    "\n",
    "# sort these attributes and spit them out\n",
    "zip_vars = zip(LogregEstimator.coef_.T,class_t.columns) # combine attributes\n",
    "zip_vars = sorted(zip_vars)\n",
    "for coef, name in zip_vars:\n",
    "    print(name, 'has weight of', coef[0]) # now print them out"
   ]
  },
  {
   "cell_type": "code",
   "execution_count": 213,
   "metadata": {},
   "outputs": [
    {
     "data": {
      "image/png": "[encoded data removed]",
      "text/plain": [
       "<matplotlib.figure.Figure at 0x1a0d028eb8>"
      ]
     },
     "metadata": {},
     "output_type": "display_data"
    }
   ],
   "source": [
    "# now let's make a pandas Series with the names and values, and plot them\n",
    "from matplotlib import pyplot as plt\n",
    "%matplotlib inline\n",
    "plt.style.use('ggplot')\n",
    "\n",
    "#it had df.columns\n",
    "weights = pd.Series(LogregEstimator.coef_[0],index=class_t.columns)\n",
    "weights.plot(kind='bar')\n",
    "plt.show()"
   ]
  },
  {
   "cell_type": "markdown",
   "metadata": {},
   "source": [
    ">The most important variables to predict the default according to the logistic regression are:\n",
    "\n",
    "\n",
    ">a) The repayment status of the most recent month (dummy variables: Pay_1_range_delay 1 month, Pay_1_rande delay < 1)\n",
    "\n",
    ">b) The amount of bill statement of the most recent month (BILL_AMT1)\n",
    "\n",
    ">c) Limit Balance (LIMIT_BAL)\n",
    "\n",
    ">d) The amount paid in the most recent month (PAY_AMT1)\n",
    "\n",
    ">Among the socio-economic variables (Sex, Education, Marriage, and Age), the Education is the most relevant, followed by Marriage, sex, and age.\n"
   ]
  },
  {
   "cell_type": "markdown",
   "metadata": {},
   "source": [
    "# <a name=\"Regression-Task\"></a>Regression Task\n",
    "\n",
    ">[20 points] Create three different classification/regression models for each task (e.g., random forest, KNN, and SVM for task one and the same or different algorithms for task two). Two modeling techniques must be new (but the third could be SVM or logistic regression). Adjust parameters as appropriate to increase generalization performance using your chosen metric. You must investigate different parameters of the algorithms!"
   ]
  },
  {
   "cell_type": "markdown",
   "metadata": {},
   "source": [
    "#### Regression task Objective\n",
    "> The purpose of the regression task will be to predict the ratio: \"Ratio of average bill amount to credit limit balance\".  That will give the bank the ability to target customers with very low usage of their credit and offer them additional products and conversely identify customers that are close to use total balance limit to monitor theri behavior and allocate capital for potendial defaults."
   ]
  },
  {
   "cell_type": "markdown",
   "metadata": {},
   "source": [
    "> We first build the code to measure the performance metrics for the regression task. The code is extracted from:\n",
    "* http://localhost:8888/notebooks/Documents/Master%20Data%20Science/DataMining/EducationNC_Project/Graduation%20Rates%20v2%20(1).ipynb"
   ]
  },
  {
   "cell_type": "code",
   "execution_count": 214,
   "metadata": {},
   "outputs": [],
   "source": [
    "##### SETTING UP THE PERFORMANCE METRICS\n",
    "#Use mean absolute error (MAE) to score the regression models created \n",
    "#(the scale of MAE is identical to the response variable)\n",
    "from sklearn.metrics import mean_absolute_error, make_scorer, mean_squared_error\n",
    "\n",
    "#Function for Root mean squared error\n",
    "#https://stackoverflow.com/questions/17197492/root-mean-square-error-in-python\n",
    "def rmse(y_actual, y_predicted):\n",
    "    return np.sqrt(mean_squared_error(y_actual, y_predicted))\n",
    "\n",
    "#Function for Mean Absolute Percentage Error (MAPE) - Untested\n",
    "#Adapted from - https://stackoverflow.com/questions/42250958/how-to-optimize-mape-code-in-python\n",
    "def mape(y_actual, y_predicted): \n",
    "    mask = y_actual != 0\n",
    "    return (np.fabs(y_actual - y_predicted)/y_actual)[mask].mean() * 100\n",
    "\n",
    "#Create scorers for rmse and mape functions\n",
    "mae_scorer = make_scorer(score_func=mean_absolute_error, greater_is_better=False)\n",
    "rmse_scorer = make_scorer(score_func=rmse, greater_is_better=False)\n",
    "mape_scorer = make_scorer(score_func=mape, greater_is_better=False)\n",
    "\n",
    "#Make scorer array to pass into cross_validate() function for producing mutiple scores for each cv fold.\n",
    "errorScoring = {'MAE':  mae_scorer, \n",
    "                'RMSE': rmse_scorer,\n",
    "                'MAPE': mape_scorer\n",
    "               } "
   ]
  },
  {
   "cell_type": "markdown",
   "metadata": {},
   "source": [
    "## Regression Model Evaluation\n",
    "** All regression models are evaluated using the regression model evaluation function below: ** \n",
    "* The following regression evaluation function uses the cross validation object and the custom scorers in the two cells above in combination with sklearn.model_selection's cross_validate function to perform cross validation for regression estimators.\n",
    "* The cross validation object above uses a random seed to ensure that all regression estimators are tested on the same randomly selected records for each cross validation fold.\n",
    "* Custom scorers are created using the three chosen mean error scores and passed into cross_validate(), so all three scores are calculated using a single call to cross_validate().\n",
    "* All of this functionality is wrapped within the custom EvaluateRegressionEstimator() function below so multiple regression models may be tested using the same test / train CV data and evaluation scores producing a consistent output for each model without the need to re-write the same code over and over. "
   ]
  },
  {
   "cell_type": "code",
   "execution_count": 215,
   "metadata": {},
   "outputs": [],
   "source": [
    "from sklearn.model_selection import cross_validate\n",
    "\n",
    "def EvaluateRegressionEstimator(regEstimator, X, y, cv):\n",
    "    \n",
    "    scores = cross_validate(regEstimator, X, y, scoring=errorScoring, cv=cv, return_train_score=True)\n",
    "\n",
    "    #cross val score sign-flips the outputs of MAE\n",
    "    # https://github.com/scikit-learn/scikit-learn/issues/2439\n",
    "    scores['test_MAE'] = scores['test_MAE'] * -1\n",
    "    scores['test_MAPE'] = scores['test_MAPE'] * -1\n",
    "    scores['test_RMSE'] = scores['test_RMSE'] * -1\n",
    "\n",
    "    #print mean MAE for all folds \n",
    "    maeAvg = scores['test_MAE'].mean()\n",
    "    print_str = \"The average MAE for all cv folds is: \\t\\t\\t {maeAvg:.5}\"\n",
    "    print(print_str.format(maeAvg=maeAvg))\n",
    "\n",
    "    #print mean test_MAPE for all folds\n",
    "    scores['test_MAPE'] = scores['test_MAPE']\n",
    "    mape_avg = scores['test_MAPE'].mean()\n",
    "    print_str = \"The average MAE percentage (MAPE) for all cv folds is: \\t {mape_avg:.5}\"\n",
    "    print(print_str.format(mape_avg=mape_avg))\n",
    "\n",
    "    #print mean MAE for all folds \n",
    "    RMSEavg = scores['test_RMSE'].mean()\n",
    "    print_str = \"The average RMSE for all cv folds is: \\t\\t\\t {RMSEavg:.5}\"\n",
    "    print(print_str.format(RMSEavg=RMSEavg))\n",
    "    print('*********************************************************')\n",
    "\n",
    "    print('Cross Validation Fold Mean Error Scores')\n",
    "    scoresResults = pd.DataFrame()\n",
    "    scoresResults['MAE'] = scores['test_MAE']\n",
    "    scoresResults['MAPE'] = scores['test_MAPE']\n",
    "    scoresResults['RMSE'] = scores['test_RMSE']\n",
    "    return scoresResults"
   ]
  },
  {
   "cell_type": "markdown",
   "metadata": {},
   "source": [
    "## Baseline Regression Model\n",
    "\n",
    "**Linear Regression is used to create a baseline model.  Since linear regression may predict response variable values outside the range of the training data's response variable, we create a linear regression estimator with minority percentage predictions clipped 0% and 100%. For details see:**\n",
    "* http://scikit-learn.org/stable/developers/contributing.html#rolling-your-own-estimator \n",
    "* https://github.com/scikit-learn/scikit-learn/issues/6950\n",
    "* http://scikit-learn.org/stable/modules/generated/sklearn.linear_model.LinearRegression.html\n",
    "* https://github.com/scikit-learn-contrib/project-template/blob/master/skltemplate/template.py\n",
    "* https://stackoverflow.com/questions/44234682/how-to-use-sklearn-when-target-variable-is-a-proportion"
   ]
  },
  {
   "cell_type": "code",
   "execution_count": 216,
   "metadata": {},
   "outputs": [],
   "source": [
    "#Make new estimator compatible for use with GridSearchCV() and cross_validate()\n",
    "# -  Cap predict function for LinearRegression between 0 and 100\n",
    "# -  See: Roll your own estimator links above for details. \n",
    "from sklearn.base import BaseEstimator, RegressorMixin\n",
    "from sklearn.linear_model import LinearRegression\n",
    "\n",
    "class CappedLinearRegression(LinearRegression):\n",
    "\n",
    "    def predict(self, X):\n",
    "        return np.clip(super(CappedLinearRegression, self).predict(X), 0, 100) "
   ]
  },
  {
   "cell_type": "markdown",
   "metadata": {},
   "source": [
    "### Linear Regression Grid Search\n",
    "** Here we perform a grid search testing 40 models to find the best parameters for our Linear Regression model based on Mean Absolute Error.  See more on parameter tuning with grid search here:**\n",
    "* http://scikit-learn.org/stable/modules/grid_search.html"
   ]
  },
  {
   "cell_type": "code",
   "execution_count": 217,
   "metadata": {},
   "outputs": [
    {
     "name": "stdout",
     "output_type": "stream",
     "text": [
      "Fitting 10 folds for each of 4 candidates, totalling 40 fits\n"
     ]
    },
    {
     "name": "stderr",
     "output_type": "stream",
     "text": [
      "[Parallel(n_jobs=1)]: Done  40 out of  40 | elapsed:    0.6s finished\n"
     ]
    },
    {
     "data": {
      "text/plain": [
       "GridSearchCV(cv=ShuffleSplit(n_splits=10, random_state=1, test_size=0.2, train_size=0.8),\n",
       "       error_score='raise',\n",
       "       estimator=CappedLinearRegression(copy_X=True, fit_intercept=True, n_jobs=1,\n",
       "            normalize=False),\n",
       "       fit_params=None, iid=True, n_jobs=1,\n",
       "       param_grid={'normalize': (True, False), 'fit_intercept': (True, False)},\n",
       "       pre_dispatch='2*n_jobs', refit=True, return_train_score='warn',\n",
       "       scoring=make_scorer(mean_absolute_error, greater_is_better=False),\n",
       "       verbose=1)"
      ]
     },
     "execution_count": 217,
     "metadata": {},
     "output_type": "execute_result"
    }
   ],
   "source": [
    "#Create a Linear Regression object and perform a grid search to find the best parameters\n",
    "linreg = CappedLinearRegression()\n",
    "parameters = {'normalize':(True,False), 'fit_intercept':(True,False)}\n",
    "\n",
    "#Create a grid search object using the  \n",
    "from sklearn.model_selection import GridSearchCV\n",
    "regGridSearch = GridSearchCV(estimator=linreg\n",
    "                   , verbose=1 # low verbosity\n",
    "                   , param_grid=parameters\n",
    "                   , cv=cv_reg # KFolds = 10\n",
    "                   , scoring=mae_scorer)\n",
    "\n",
    "#Perform hyperparameter search to find the best combination of parameters for our data\n",
    "#regGridSearch.fit(X_r, y_r)\n",
    "regGridSearch.fit(X_r, y_r)"
   ]
  },
  {
   "cell_type": "code",
   "execution_count": 218,
   "metadata": {},
   "outputs": [
    {
     "data": {
      "text/plain": [
       "CappedLinearRegression(copy_X=True, fit_intercept=False, n_jobs=1,\n",
       "            normalize=True)"
      ]
     },
     "execution_count": 218,
     "metadata": {},
     "output_type": "execute_result"
    }
   ],
   "source": [
    "#Print the parameterization of the best estimator\n",
    "regGridSearch.best_estimator_"
   ]
  },
  {
   "cell_type": "markdown",
   "metadata": {},
   "source": [
    "##  Baseline Regression Model - Cross Validation\n",
    "**Perform tenfold cross validation using the grid search \"best\" parameters and our Capped Linear Regression estimator**\n",
    "* 10-fold cross-validation using the parameters for the top performing model \n",
    "* CAP predictions between 0 and 100% \n",
    "* Evaluate cross-validation results using MAE, MAPE, and RMSE"
   ]
  },
  {
   "cell_type": "code",
   "execution_count": 219,
   "metadata": {},
   "outputs": [
    {
     "name": "stdout",
     "output_type": "stream",
     "text": [
      "The average MAE for all cv folds is: \t\t\t 0.27795\n",
      "The average MAE percentage (MAPE) for all cv folds is: \t 440.93\n",
      "The average RMSE for all cv folds is: \t\t\t 0.33199\n",
      "*********************************************************\n",
      "Cross Validation Fold Mean Error Scores\n"
     ]
    },
    {
     "data": {
      "text/html": [
       "<div>\n",
       "<style scoped>\n",
       "    .dataframe tbody tr th:only-of-type {\n",
       "        vertical-align: middle;\n",
       "    }\n",
       "\n",
       "    .dataframe tbody tr th {\n",
       "        vertical-align: top;\n",
       "    }\n",
       "\n",
       "    .dataframe thead th {\n",
       "        text-align: right;\n",
       "    }\n",
       "</style>\n",
       "<table border=\"1\" class=\"dataframe\">\n",
       "  <thead>\n",
       "    <tr style=\"text-align: right;\">\n",
       "      <th></th>\n",
       "      <th>MAE</th>\n",
       "      <th>MAPE</th>\n",
       "      <th>RMSE</th>\n",
       "    </tr>\n",
       "  </thead>\n",
       "  <tbody>\n",
       "    <tr>\n",
       "      <th>0</th>\n",
       "      <td>0.280974</td>\n",
       "      <td>1626.461378</td>\n",
       "      <td>0.336603</td>\n",
       "    </tr>\n",
       "    <tr>\n",
       "      <th>1</th>\n",
       "      <td>0.275041</td>\n",
       "      <td>-776.651246</td>\n",
       "      <td>0.324731</td>\n",
       "    </tr>\n",
       "    <tr>\n",
       "      <th>2</th>\n",
       "      <td>0.276983</td>\n",
       "      <td>-1353.791854</td>\n",
       "      <td>0.329080</td>\n",
       "    </tr>\n",
       "    <tr>\n",
       "      <th>3</th>\n",
       "      <td>0.276121</td>\n",
       "      <td>1642.440461</td>\n",
       "      <td>0.327817</td>\n",
       "    </tr>\n",
       "    <tr>\n",
       "      <th>4</th>\n",
       "      <td>0.277215</td>\n",
       "      <td>1142.015559</td>\n",
       "      <td>0.328727</td>\n",
       "    </tr>\n",
       "    <tr>\n",
       "      <th>5</th>\n",
       "      <td>0.275749</td>\n",
       "      <td>20.446140</td>\n",
       "      <td>0.328822</td>\n",
       "    </tr>\n",
       "    <tr>\n",
       "      <th>6</th>\n",
       "      <td>0.280816</td>\n",
       "      <td>-498.179496</td>\n",
       "      <td>0.334812</td>\n",
       "    </tr>\n",
       "    <tr>\n",
       "      <th>7</th>\n",
       "      <td>0.279137</td>\n",
       "      <td>363.747926</td>\n",
       "      <td>0.340738</td>\n",
       "    </tr>\n",
       "    <tr>\n",
       "      <th>8</th>\n",
       "      <td>0.277709</td>\n",
       "      <td>926.656446</td>\n",
       "      <td>0.329714</td>\n",
       "    </tr>\n",
       "    <tr>\n",
       "      <th>9</th>\n",
       "      <td>0.279714</td>\n",
       "      <td>1316.172201</td>\n",
       "      <td>0.338904</td>\n",
       "    </tr>\n",
       "  </tbody>\n",
       "</table>\n",
       "</div>"
      ],
      "text/plain": [
       "        MAE         MAPE      RMSE\n",
       "0  0.280974  1626.461378  0.336603\n",
       "1  0.275041  -776.651246  0.324731\n",
       "2  0.276983 -1353.791854  0.329080\n",
       "3  0.276121  1642.440461  0.327817\n",
       "4  0.277215  1142.015559  0.328727\n",
       "5  0.275749    20.446140  0.328822\n",
       "6  0.280816  -498.179496  0.334812\n",
       "7  0.279137   363.747926  0.340738\n",
       "8  0.277709   926.656446  0.329714\n",
       "9  0.279714  1316.172201  0.338904"
      ]
     },
     "execution_count": 219,
     "metadata": {},
     "output_type": "execute_result"
    }
   ],
   "source": [
    "#Create CappedLinearRegression predictions between 0 and 100% using the best parameters for our Linear Regression object\n",
    "import warnings\n",
    "warnings.filterwarnings('ignore')\n",
    "\n",
    "regEstimator = regGridSearch.best_estimator_\n",
    "\n",
    "#Evaluate the regression estimator above using our pre-defined cross validation and scoring metrics. \n",
    "#EvaluateRegressionEstimator(regEstimator, X_r, y_r, cv_reg)\n",
    "EvaluateRegressionEstimator(regEstimator, X_r, y_r, cv_reg)\n"
   ]
  },
  {
   "cell_type": "code",
   "execution_count": 220,
   "metadata": {},
   "outputs": [
    {
     "data": {
      "image/png": "[encoded data removed]",
      "text/plain": [
       "<matplotlib.figure.Figure at 0x1a0e942710>"
      ]
     },
     "metadata": {},
     "output_type": "display_data"
    },
    {
     "name": "stdout",
     "output_type": "stream",
     "text": [
      "The mean of the distribution is 0.27788850861382264\n",
      "The median of the distribution is 0.2779009793466808\n"
     ]
    },
    {
     "data": {
      "text/plain": [
       "<matplotlib.figure.Figure at 0x1a0cb96cc0>"
      ]
     },
     "metadata": {},
     "output_type": "display_data"
    }
   ],
   "source": [
    "#Build a sampling distribution of the MAE via bootstrap\n",
    "# - 1000 random samples with replacement  \n",
    "# - Look at dist plot for the 1000 MAE's  \n",
    "from sklearn.utils import resample\n",
    "import seaborn as sns\n",
    "\n",
    "# train on all of the data\n",
    "regEstimator.fit(X_r, y_r)\n",
    "\n",
    "maeList = []  # an empty list for MAE\n",
    "sampleCt = len(y_r) # large same equal to validation set size, but w/ replacement!\n",
    "y_r_hatMin = 0\n",
    "y_r_hatMax = 0\n",
    "\n",
    "for i in range(1000): # 1,000 samples\n",
    "    X_r_samp, y_r_samp = resample(X_r, y_r, replace=True, n_samples=sampleCt)\n",
    "    y_r_hat = regEstimator.predict(X_r_samp)\n",
    "    mae = mean_absolute_error(y_r_samp, y_r_hat)\n",
    "    maeList.append(mae)\n",
    "    y_r_hatMin = np.minimum(y_r_hat.min(), y_r_hatMin)\n",
    "    y_r_hatMax = np.maximum(y_r_hat.max(), y_r_hatMax)\n",
    "\n",
    "#Print distributions for MAE\n",
    "sns.distplot(maeList).set_title(\"Mean Absolute Error\\nSampling Distribution Plot\")  \n",
    "plt.show()\n",
    "plt.savefig('MAE_CAPPED')\n",
    "\n",
    "print(\"The mean of the distribution is {mean}\".format(mean=np.mean(maeList)))\n",
    "print(\"The median of the distribution is {median}\".format(median=np.median(maeList)))"
   ]
  },
  {
   "cell_type": "markdown",
   "metadata": {},
   "source": [
    "## Multiple Linear Regression Feature Importance - Capped Regression\n"
   ]
  },
  {
   "cell_type": "code",
   "execution_count": 221,
   "metadata": {},
   "outputs": [],
   "source": [
    "#Scale dataset converting to standard normally distributed data \n",
    "# (e.g. Gaussian with 0 mean and unit variance).\n",
    "from sklearn.preprocessing import StandardScaler\n",
    "\n",
    "#Fit to data for scaling\n",
    "scaler = StandardScaler()\n",
    "scaler.fit(X_r)\n",
    "\n",
    "#Transform training data to z-scores\n",
    "#This makes our model's coefficients take on the same scale for accurate feature importance analisys \n",
    "X_r_scl = scaler.transform(X_r)"
   ]
  },
  {
   "cell_type": "code",
   "execution_count": 222,
   "metadata": {},
   "outputs": [
    {
     "data": {
      "text/plain": [
       "CappedLinearRegression(copy_X=True, fit_intercept=False, n_jobs=1,\n",
       "            normalize=True)"
      ]
     },
     "execution_count": 222,
     "metadata": {},
     "output_type": "execute_result"
    }
   ],
   "source": [
    "#linreg_fi = linreg_clf.best_estimator_\n",
    "regEstimator_fi = regGridSearch.best_estimator_\n",
    "\n",
    "#Fit the model using all of our scaled data\n",
    "regEstimator_fi.fit(X_r_scl, y_r)"
   ]
  },
  {
   "cell_type": "code",
   "execution_count": 223,
   "metadata": {},
   "outputs": [
    {
     "data": {
      "image/png": "[encoded data removed]",
      "text/plain": [
       "<matplotlib.figure.Figure at 0x1a0c87ef98>"
      ]
     },
     "metadata": {},
     "output_type": "display_data"
    }
   ],
   "source": [
    "#Load the model's coefficient weights and feature names into a dataframe sorted by weights\n",
    "weights = regEstimator_fi.coef_\n",
    "#### WARNING HERE\n",
    "feature_names = reg_t.columns\n",
    "linreg_ft_imp_df = pd.DataFrame({'feature_names':feature_names, 'weights':weights, 'absolute_weights': np.abs(weights)})\n",
    "linreg_ft_imp_df.sort_values(by='absolute_weights', inplace=True, ascending=False )\n",
    "\n",
    "#Plot the model's feature importances\n",
    "# REFERENCE:  Eric Larson, https://github.com/eclarson/DataMiningNotebooks\n",
    "plt.style.use('ggplot')\n",
    "\n",
    "wt_plt_df = linreg_ft_imp_df.head(10)\n",
    "\n",
    "weights = pd.Series(wt_plt_df['weights'].values,index=wt_plt_df['feature_names'])\n",
    "ax = weights.plot(kind='bar')\n",
    "\n",
    "ax.set_title(\"Top Feature Correlations\")\n",
    "ax.set_ylabel(\"Coefficient Magnitude\\n(z-score)\")\n",
    "ax.set_xlabel(\"Feature Names\")\n",
    "plt.show()"
   ]
  },
  {
   "cell_type": "markdown",
   "metadata": {},
   "source": [
    "##  Lasso Regression\n",
    "**Perform regression using Linear Model trained with L1 prior as regularizer (aka the Lasso)**\n",
    "\n",
    "Documentation: http://scikit-learn.org/stable/modules/generated/sklearn.linear_model.Lasso.html"
   ]
  },
  {
   "cell_type": "code",
   "execution_count": 224,
   "metadata": {},
   "outputs": [
    {
     "name": "stdout",
     "output_type": "stream",
     "text": [
      "Fitting 10 folds for each of 20 candidates, totalling 200 fits\n"
     ]
    },
    {
     "name": "stderr",
     "output_type": "stream",
     "text": [
      "[Parallel(n_jobs=8)]: Done  88 tasks      | elapsed:    1.4s\n",
      "[Parallel(n_jobs=8)]: Done 200 out of 200 | elapsed:    2.4s finished\n"
     ]
    },
    {
     "data": {
      "text/plain": [
       "GridSearchCV(cv=ShuffleSplit(n_splits=10, random_state=1, test_size=0.2, train_size=0.8),\n",
       "       error_score='raise',\n",
       "       estimator=Lasso(alpha=1.0, copy_X=True, fit_intercept=True, max_iter=10000,\n",
       "   normalize=True, positive=False, precompute=True, random_state=0,\n",
       "   selection='cyclic', tol=0.0001, warm_start=False),\n",
       "       fit_params=None, iid=True, n_jobs=8,\n",
       "       param_grid={'alpha': [0.001, 0.1, 1, 10, 20], 'selection': ['cyclic', 'random'], 'warm_start': [True, False]},\n",
       "       pre_dispatch='2*n_jobs', refit=True, return_train_score='warn',\n",
       "       scoring=make_scorer(mean_absolute_error, greater_is_better=False),\n",
       "       verbose=1)"
      ]
     },
     "execution_count": 224,
     "metadata": {},
     "output_type": "execute_result"
    }
   ],
   "source": [
    "#Create a regression object and perform a grid search to find the best parameters\n",
    "from sklearn.linear_model import Lasso\n",
    "\n",
    "lassoreg = Lasso(fit_intercept=True, normalize=True,copy_X=True\n",
    "          , max_iter=10000, precompute=True, tol=0.0001, random_state=0)\n",
    "\n",
    "#Test parameters \n",
    "alpha = [0.001, 0.1, 1, 10, 20]\n",
    "selection = ['cyclic','random']\n",
    "warm_start = [True, False]\n",
    "parameters = {'alpha': alpha, 'selection': selection, 'warm_start': warm_start}\n",
    "\n",
    "#Create a grid search object using the parameters above\n",
    "from sklearn.model_selection import GridSearchCV\n",
    "regGridSearch = GridSearchCV(estimator=lassoreg\n",
    "                   , n_jobs=8 # jobs to run in parallel\n",
    "                   , verbose=1 # low verbosity\n",
    "                   , param_grid=parameters\n",
    "                   , cv=cv_reg # KFolds = 10\n",
    "                   , scoring=mae_scorer)\n",
    "\n",
    "#Perform hyperparameter search to find the best combination of parameters for our data\n",
    "regGridSearch.fit(X_r, y_r)"
   ]
  },
  {
   "cell_type": "code",
   "execution_count": 225,
   "metadata": {},
   "outputs": [
    {
     "data": {
      "text/plain": [
       "Lasso(alpha=0.001, copy_X=True, fit_intercept=True, max_iter=10000,\n",
       "   normalize=True, positive=False, precompute=True, random_state=0,\n",
       "   selection='cyclic', tol=0.0001, warm_start=True)"
      ]
     },
     "execution_count": 225,
     "metadata": {},
     "output_type": "execute_result"
    }
   ],
   "source": [
    "#Display the best estimator parameters\n",
    "regGridSearch.best_estimator_"
   ]
  },
  {
   "cell_type": "code",
   "execution_count": 226,
   "metadata": {},
   "outputs": [
    {
     "name": "stdout",
     "output_type": "stream",
     "text": [
      "The average MAE for all cv folds is: \t\t\t 0.31171\n",
      "The average MAE percentage (MAPE) for all cv folds is: \t -379.45\n",
      "The average RMSE for all cv folds is: \t\t\t 0.353\n",
      "*********************************************************\n",
      "Cross Validation Fold Mean Error Scores\n"
     ]
    },
    {
     "data": {
      "text/html": [
       "<div>\n",
       "<style scoped>\n",
       "    .dataframe tbody tr th:only-of-type {\n",
       "        vertical-align: middle;\n",
       "    }\n",
       "\n",
       "    .dataframe tbody tr th {\n",
       "        vertical-align: top;\n",
       "    }\n",
       "\n",
       "    .dataframe thead th {\n",
       "        text-align: right;\n",
       "    }\n",
       "</style>\n",
       "<table border=\"1\" class=\"dataframe\">\n",
       "  <thead>\n",
       "    <tr style=\"text-align: right;\">\n",
       "      <th></th>\n",
       "      <th>MAE</th>\n",
       "      <th>MAPE</th>\n",
       "      <th>RMSE</th>\n",
       "    </tr>\n",
       "  </thead>\n",
       "  <tbody>\n",
       "    <tr>\n",
       "      <th>0</th>\n",
       "      <td>0.312945</td>\n",
       "      <td>1968.562203</td>\n",
       "      <td>0.357046</td>\n",
       "    </tr>\n",
       "    <tr>\n",
       "      <th>1</th>\n",
       "      <td>0.310933</td>\n",
       "      <td>-557.090559</td>\n",
       "      <td>0.349272</td>\n",
       "    </tr>\n",
       "    <tr>\n",
       "      <th>2</th>\n",
       "      <td>0.310459</td>\n",
       "      <td>-2133.992640</td>\n",
       "      <td>0.350454</td>\n",
       "    </tr>\n",
       "    <tr>\n",
       "      <th>3</th>\n",
       "      <td>0.309206</td>\n",
       "      <td>821.386470</td>\n",
       "      <td>0.346295</td>\n",
       "    </tr>\n",
       "    <tr>\n",
       "      <th>4</th>\n",
       "      <td>0.312353</td>\n",
       "      <td>-848.455682</td>\n",
       "      <td>0.352686</td>\n",
       "    </tr>\n",
       "    <tr>\n",
       "      <th>5</th>\n",
       "      <td>0.307881</td>\n",
       "      <td>-2452.067162</td>\n",
       "      <td>0.348565</td>\n",
       "    </tr>\n",
       "    <tr>\n",
       "      <th>6</th>\n",
       "      <td>0.313857</td>\n",
       "      <td>-1264.995682</td>\n",
       "      <td>0.355773</td>\n",
       "    </tr>\n",
       "    <tr>\n",
       "      <th>7</th>\n",
       "      <td>0.315162</td>\n",
       "      <td>548.224661</td>\n",
       "      <td>0.361312</td>\n",
       "    </tr>\n",
       "    <tr>\n",
       "      <th>8</th>\n",
       "      <td>0.311389</td>\n",
       "      <td>-1114.752323</td>\n",
       "      <td>0.350986</td>\n",
       "    </tr>\n",
       "    <tr>\n",
       "      <th>9</th>\n",
       "      <td>0.312897</td>\n",
       "      <td>1238.684465</td>\n",
       "      <td>0.357586</td>\n",
       "    </tr>\n",
       "  </tbody>\n",
       "</table>\n",
       "</div>"
      ],
      "text/plain": [
       "        MAE         MAPE      RMSE\n",
       "0  0.312945  1968.562203  0.357046\n",
       "1  0.310933  -557.090559  0.349272\n",
       "2  0.310459 -2133.992640  0.350454\n",
       "3  0.309206   821.386470  0.346295\n",
       "4  0.312353  -848.455682  0.352686\n",
       "5  0.307881 -2452.067162  0.348565\n",
       "6  0.313857 -1264.995682  0.355773\n",
       "7  0.315162   548.224661  0.361312\n",
       "8  0.311389 -1114.752323  0.350986\n",
       "9  0.312897  1238.684465  0.357586"
      ]
     },
     "execution_count": 226,
     "metadata": {},
     "output_type": "execute_result"
    }
   ],
   "source": [
    "#Create a regression estimator with best parameters for cross validation\n",
    "regEstimator = regGridSearch.best_estimator_\n",
    "\n",
    "#Evaluate the regression estimator above using our pre-defined cross validation and scoring metrics.\n",
    "EvaluateRegressionEstimator(regEstimator, X_r, y_r, cv_reg)"
   ]
  },
  {
   "cell_type": "code",
   "execution_count": 227,
   "metadata": {},
   "outputs": [
    {
     "data": {
      "image/png": "[encoded data removed]",
      "text/plain": [
       "<matplotlib.figure.Figure at 0x1a0c827780>"
      ]
     },
     "metadata": {},
     "output_type": "display_data"
    },
    {
     "name": "stdout",
     "output_type": "stream",
     "text": [
      "The mean of the distribution is 0.3112205197193033\n",
      "The median of the distribution is 0.311261067416599\n"
     ]
    },
    {
     "data": {
      "text/plain": [
       "<matplotlib.figure.Figure at 0x1a0c7802e8>"
      ]
     },
     "metadata": {},
     "output_type": "display_data"
    }
   ],
   "source": [
    "#Build a sampling distribution of the MAE via bootstrap\n",
    "# - 1000 random samples with replacement  \n",
    "# - Look at dist plot for the 1000 MAE's  \n",
    "from sklearn.utils import resample\n",
    "import seaborn as sns\n",
    "\n",
    "# train on all of the data\n",
    "regEstimator.fit(X_r, y_r)\n",
    "\n",
    "maeList = []  # an empty list for MAE\n",
    "sampleCt = len(y_r) # large same equal to validation set size, but w/ replacement!\n",
    "y_r_hatMin = 0\n",
    "y_r_hatMax = 0\n",
    "\n",
    "for i in range(1000): # 1,000 samples\n",
    "    X_r_samp, y_r_samp = resample(X_r, y_r, replace=True, n_samples=sampleCt)\n",
    "    y_r_hat = regEstimator.predict(X_r_samp)\n",
    "    mae = mean_absolute_error(y_r_samp, y_r_hat)\n",
    "    maeList.append(mae)\n",
    "    y_r_hatMin = np.minimum(y_r_hat.min(), y_r_hatMin)\n",
    "    y_r_hatMax = np.maximum(y_r_hat.max(), y_r_hatMax)\n",
    "\n",
    "#Print distributions for MAE\n",
    "sns.distplot(maeList).set_title(\"Mean Absolute Error\\nSampling Distribution Plot\")  \n",
    "plt.show()\n",
    "plt.savefig('MAE_LASSO')\n",
    "\n",
    "print(\"The mean of the distribution is {mean}\".format(mean=np.mean(maeList)))\n",
    "print(\"The median of the distribution is {median}\".format(median=np.median(maeList)))"
   ]
  },
  {
   "cell_type": "code",
   "execution_count": 228,
   "metadata": {},
   "outputs": [],
   "source": [
    "#Scale dataset converting to standard normally distributed data \n",
    "# (e.g. Gaussian with 0 mean and unit variance).\n",
    "from sklearn.preprocessing import StandardScaler\n",
    "\n",
    "#Fit to data for scaling\n",
    "scaler = StandardScaler()\n",
    "scaler.fit(X_r)\n",
    "\n",
    "#Transform training data to z-scores\n",
    "#This makes our model's coefficients take on the same scale for accurate feature importance analysis \n",
    "X_r_scl = scaler.transform(X_r)"
   ]
  },
  {
   "cell_type": "code",
   "execution_count": 229,
   "metadata": {},
   "outputs": [
    {
     "data": {
      "text/plain": [
       "Lasso(alpha=0.001, copy_X=True, fit_intercept=True, max_iter=10000,\n",
       "   normalize=True, positive=False, precompute=True, random_state=0,\n",
       "   selection='cyclic', tol=0.0001, warm_start=True)"
      ]
     },
     "execution_count": 229,
     "metadata": {},
     "output_type": "execute_result"
    }
   ],
   "source": [
    "#linreg_fi = linreg_clf.best_estimator_\n",
    "regEstimator_fi = regGridSearch.best_estimator_\n",
    "\n",
    "#Fit the model using all of our scaled data\n",
    "regEstimator_fi.fit(X_r_scl, y_r)"
   ]
  },
  {
   "cell_type": "code",
   "execution_count": 230,
   "metadata": {},
   "outputs": [
    {
     "name": "stdout",
     "output_type": "stream",
     "text": [
      "Yhat Max:  0.3730479457526812\n"
     ]
    }
   ],
   "source": [
    "#Do we predict Average Bill amount to card Limit Balance ratios greater than 100%?\n",
    "regEstimator = Lasso(alpha=0.001, copy_X=True, fit_intercept=True, max_iter=10000,\n",
    "   normalize=True, positive=False, precompute=True, random_state=0,\n",
    "   selection='cyclic', tol=0.0001, warm_start=True)\n",
    "\n",
    "regEstimator.fit(X_r, y_r)\n",
    "yhat = regEstimator.predict(X_r)\n",
    "print(\"Yhat Max: \", yhat.max())"
   ]
  },
  {
   "cell_type": "markdown",
   "metadata": {},
   "source": [
    "##  Ridge Regression\n",
    "**Perform regression using Linear least squares with l2 regularization**\n",
    "\n",
    "Documentation: http://scikit-learn.org/stable/modules/generated/sklearn.linear_model.Ridge.html"
   ]
  },
  {
   "cell_type": "code",
   "execution_count": 231,
   "metadata": {},
   "outputs": [
    {
     "name": "stdout",
     "output_type": "stream",
     "text": [
      "Fitting 10 folds for each of 36 candidates, totalling 360 fits\n"
     ]
    },
    {
     "name": "stderr",
     "output_type": "stream",
     "text": [
      "[Parallel(n_jobs=8)]: Done  52 tasks      | elapsed:    2.3s\n",
      "[Parallel(n_jobs=8)]: Done 360 out of 360 | elapsed:   10.8s finished\n"
     ]
    },
    {
     "data": {
      "text/plain": [
       "GridSearchCV(cv=ShuffleSplit(n_splits=10, random_state=1, test_size=0.2, train_size=0.8),\n",
       "       error_score='raise',\n",
       "       estimator=Ridge(alpha=1.0, copy_X=True, fit_intercept=True, max_iter=1000,\n",
       "   normalize=True, random_state=0, solver='auto', tol=0.0001),\n",
       "       fit_params=None, iid=True, n_jobs=8,\n",
       "       param_grid={'alpha': [0.001, 0.1, 1, 5, 10, 20], 'solver': ['svd', 'cholesky', 'lsqr', 'sparse_cg', 'sag', 'saga']},\n",
       "       pre_dispatch='2*n_jobs', refit=True, return_train_score='warn',\n",
       "       scoring=make_scorer(mean_absolute_error, greater_is_better=False),\n",
       "       verbose=1)"
      ]
     },
     "execution_count": 231,
     "metadata": {},
     "output_type": "execute_result"
    }
   ],
   "source": [
    "#Create a regression object and perform a grid search to find the best parameters\n",
    "from sklearn.linear_model import Ridge\n",
    "\n",
    "ridgereg = Ridge(fit_intercept=True, normalize=True,copy_X=True\n",
    "          , max_iter=1000, tol=0.0001, random_state=0)\n",
    "\n",
    "#Test parameters \n",
    "alpha = [0.001, 0.1, 1, 5, 10, 20]\n",
    "solver = [ 'svd', 'cholesky', 'lsqr', 'sparse_cg', 'sag', 'saga']\n",
    "parameters = {'alpha': alpha, 'solver': solver}\n",
    "\n",
    "#Create a grid search object using the parameters above\n",
    "from sklearn.model_selection import GridSearchCV\n",
    "regGridSearch = GridSearchCV(estimator=ridgereg\n",
    "                   , n_jobs=8 # jobs to run in parallel\n",
    "                   , verbose=1 # low verbosity\n",
    "                   , param_grid=parameters\n",
    "                   , cv=cv_reg # KFolds = 10\n",
    "                   , scoring=mae_scorer)\n",
    "\n",
    "#Perform hyperparameter search to find the best combination of parameters for our data\n",
    "regGridSearch.fit(X_r, y_r)"
   ]
  },
  {
   "cell_type": "code",
   "execution_count": 232,
   "metadata": {},
   "outputs": [
    {
     "data": {
      "text/plain": [
       "Ridge(alpha=0.001, copy_X=True, fit_intercept=True, max_iter=1000,\n",
       "   normalize=True, random_state=0, solver='lsqr', tol=0.0001)"
      ]
     },
     "execution_count": 232,
     "metadata": {},
     "output_type": "execute_result"
    }
   ],
   "source": [
    "#Display the best estimator parameters\n",
    "regGridSearch.best_estimator_"
   ]
  },
  {
   "cell_type": "code",
   "execution_count": 233,
   "metadata": {},
   "outputs": [
    {
     "name": "stdout",
     "output_type": "stream",
     "text": [
      "The average MAE for all cv folds is: \t\t\t 0.27825\n",
      "The average MAE percentage (MAPE) for all cv folds is: \t 351.59\n",
      "The average RMSE for all cv folds is: \t\t\t 0.32815\n",
      "*********************************************************\n",
      "Cross Validation Fold Mean Error Scores\n"
     ]
    },
    {
     "data": {
      "text/html": [
       "<div>\n",
       "<style scoped>\n",
       "    .dataframe tbody tr th:only-of-type {\n",
       "        vertical-align: middle;\n",
       "    }\n",
       "\n",
       "    .dataframe tbody tr th {\n",
       "        vertical-align: top;\n",
       "    }\n",
       "\n",
       "    .dataframe thead th {\n",
       "        text-align: right;\n",
       "    }\n",
       "</style>\n",
       "<table border=\"1\" class=\"dataframe\">\n",
       "  <thead>\n",
       "    <tr style=\"text-align: right;\">\n",
       "      <th></th>\n",
       "      <th>MAE</th>\n",
       "      <th>MAPE</th>\n",
       "      <th>RMSE</th>\n",
       "    </tr>\n",
       "  </thead>\n",
       "  <tbody>\n",
       "    <tr>\n",
       "      <th>0</th>\n",
       "      <td>0.280175</td>\n",
       "      <td>1662.023074</td>\n",
       "      <td>0.332624</td>\n",
       "    </tr>\n",
       "    <tr>\n",
       "      <th>1</th>\n",
       "      <td>0.276132</td>\n",
       "      <td>-539.584402</td>\n",
       "      <td>0.321971</td>\n",
       "    </tr>\n",
       "    <tr>\n",
       "      <th>2</th>\n",
       "      <td>0.278355</td>\n",
       "      <td>-1255.239839</td>\n",
       "      <td>0.326401</td>\n",
       "    </tr>\n",
       "    <tr>\n",
       "      <th>3</th>\n",
       "      <td>0.276066</td>\n",
       "      <td>1338.978267</td>\n",
       "      <td>0.322782</td>\n",
       "    </tr>\n",
       "    <tr>\n",
       "      <th>4</th>\n",
       "      <td>0.277515</td>\n",
       "      <td>810.626879</td>\n",
       "      <td>0.324810</td>\n",
       "    </tr>\n",
       "    <tr>\n",
       "      <th>5</th>\n",
       "      <td>0.275993</td>\n",
       "      <td>-233.839916</td>\n",
       "      <td>0.324786</td>\n",
       "    </tr>\n",
       "    <tr>\n",
       "      <th>6</th>\n",
       "      <td>0.280331</td>\n",
       "      <td>-612.434324</td>\n",
       "      <td>0.330710</td>\n",
       "    </tr>\n",
       "    <tr>\n",
       "      <th>7</th>\n",
       "      <td>0.279359</td>\n",
       "      <td>442.836824</td>\n",
       "      <td>0.336359</td>\n",
       "    </tr>\n",
       "    <tr>\n",
       "      <th>8</th>\n",
       "      <td>0.278508</td>\n",
       "      <td>641.759902</td>\n",
       "      <td>0.326381</td>\n",
       "    </tr>\n",
       "    <tr>\n",
       "      <th>9</th>\n",
       "      <td>0.280114</td>\n",
       "      <td>1260.757413</td>\n",
       "      <td>0.334655</td>\n",
       "    </tr>\n",
       "  </tbody>\n",
       "</table>\n",
       "</div>"
      ],
      "text/plain": [
       "        MAE         MAPE      RMSE\n",
       "0  0.280175  1662.023074  0.332624\n",
       "1  0.276132  -539.584402  0.321971\n",
       "2  0.278355 -1255.239839  0.326401\n",
       "3  0.276066  1338.978267  0.322782\n",
       "4  0.277515   810.626879  0.324810\n",
       "5  0.275993  -233.839916  0.324786\n",
       "6  0.280331  -612.434324  0.330710\n",
       "7  0.279359   442.836824  0.336359\n",
       "8  0.278508   641.759902  0.326381\n",
       "9  0.280114  1260.757413  0.334655"
      ]
     },
     "execution_count": 233,
     "metadata": {},
     "output_type": "execute_result"
    }
   ],
   "source": [
    "#Create a regression estimator with best parameters for cross validation\n",
    "regEstimator = regGridSearch.best_estimator_\n",
    "\n",
    "#Evaluate the regression estimator above using our pre-defined cross validation and scoring metrics.\n",
    "EvaluateRegressionEstimator(regEstimator, X_r, y_r, cv_reg)"
   ]
  },
  {
   "cell_type": "code",
   "execution_count": 234,
   "metadata": {},
   "outputs": [
    {
     "data": {
      "image/png": "[encoded data removed]",
      "text/plain": [
       "<matplotlib.figure.Figure at 0x1a0ca0e438>"
      ]
     },
     "metadata": {},
     "output_type": "display_data"
    },
    {
     "name": "stdout",
     "output_type": "stream",
     "text": [
      "The mean of the distribution is 0.27794112976752244\n",
      "The median of the distribution is 0.2779425871501273\n"
     ]
    },
    {
     "data": {
      "text/plain": [
       "<matplotlib.figure.Figure at 0x1a0cb4d828>"
      ]
     },
     "metadata": {},
     "output_type": "display_data"
    }
   ],
   "source": [
    "#Build a sampling distribution of the MAE via bootstrap\n",
    "# - 1000 random samples with replacement  \n",
    "# - Look at dist plot for the 1000 MAE's  \n",
    "from sklearn.utils import resample\n",
    "import seaborn as sns\n",
    "\n",
    "# train on all of the data\n",
    "regEstimator.fit(X_r, y_r)\n",
    "\n",
    "maeList = []  # an empty list for MAE\n",
    "sampleCt = len(y_r) # large same equal to validation set size, but w/ replacement!\n",
    "y_r_hatMin = 0\n",
    "y_r_hatMax = 0\n",
    "\n",
    "for i in range(1000): # 1,000 samples\n",
    "    X_r_samp, y_r_samp = resample(X_r, y_r, replace=True, n_samples=sampleCt)\n",
    "    y_r_hat = regEstimator.predict(X_r_samp)\n",
    "    mae = mean_absolute_error(y_r_samp, y_r_hat)\n",
    "    maeList.append(mae)\n",
    "    y_r_hatMin = np.minimum(y_r_hat.min(), y_r_hatMin)\n",
    "    y_r_hatMax = np.maximum(y_r_hat.max(), y_r_hatMax)\n",
    "\n",
    "#Print distributions for MAE\n",
    "sns.distplot(maeList).set_title(\"Mean Absolute Error\\nSampling Distribution Plot\")  \n",
    "plt.show()\n",
    "plt.savefig('MAE_RIDGE')\n",
    "\n",
    "print(\"The mean of the distribution is {mean}\".format(mean=np.mean(maeList)))\n",
    "print(\"The median of the distribution is {median}\".format(median=np.median(maeList)))"
   ]
  },
  {
   "cell_type": "code",
   "execution_count": 235,
   "metadata": {},
   "outputs": [],
   "source": [
    "#Scale dataset converting to standard normally distributed data \n",
    "# (e.g. Gaussian with 0 mean and unit variance).\n",
    "from sklearn.preprocessing import StandardScaler\n",
    "\n",
    "#Fit to data for scaling\n",
    "scaler = StandardScaler()\n",
    "scaler.fit(X_r)\n",
    "\n",
    "#Transform training data to z-scores\n",
    "#This makes our model's coefficients take on the same scale for accurate feature importance analysis \n",
    "X_r_scl = scaler.transform(X_r)"
   ]
  },
  {
   "cell_type": "code",
   "execution_count": 236,
   "metadata": {},
   "outputs": [
    {
     "data": {
      "text/plain": [
       "Ridge(alpha=0.001, copy_X=True, fit_intercept=True, max_iter=1000,\n",
       "   normalize=True, random_state=0, solver='lsqr', tol=0.0001)"
      ]
     },
     "execution_count": 236,
     "metadata": {},
     "output_type": "execute_result"
    }
   ],
   "source": [
    "#linreg_fi = linreg_clf.best_estimator_\n",
    "regEstimator_fi = regGridSearch.best_estimator_\n",
    "\n",
    "#Fit the model using all of our scaled data\n",
    "regEstimator_fi.fit(X_r_scl, y_r)"
   ]
  },
  {
   "cell_type": "code",
   "execution_count": 237,
   "metadata": {},
   "outputs": [
    {
     "data": {
      "image/png": "[encoded data removed]",
      "text/plain": [
       "<matplotlib.figure.Figure at 0x1a0c897470>"
      ]
     },
     "metadata": {},
     "output_type": "display_data"
    }
   ],
   "source": [
    "#Load the model's coefficient weights and feature names into a dataframe sorted by weights\n",
    "weights = regEstimator_fi.coef_\n",
    "#### WARNING HERE\n",
    "feature_names = reg_t.columns\n",
    "ridgereg_ft_imp_df = pd.DataFrame({'feature_names':feature_names, 'weights':weights, 'absolute_weights': np.abs(weights)})\n",
    "ridgereg_ft_imp_df.sort_values(by='absolute_weights', inplace=True, ascending=False )\n",
    "\n",
    "#Plot the model's feature importances\n",
    "# REFERENCE:  Eric Larson, https://github.com/eclarson/DataMiningNotebooks\n",
    "plt.style.use('ggplot')\n",
    "\n",
    "wt_plt_df = ridgereg_ft_imp_df.head(10)\n",
    "\n",
    "weights = pd.Series(wt_plt_df['weights'].values,index=wt_plt_df['feature_names'])\n",
    "ax = weights.plot(kind='bar')\n",
    "\n",
    "ax.set_title(\"Top Feature Correlations\")\n",
    "ax.set_ylabel(\"Coefficient Magnitude\\n(z-score)\")\n",
    "ax.set_xlabel(\"Feature Names\")\n",
    "plt.show()\n",
    "\n",
    "#ridgereg_ft_imp_df.info()\n",
    "#ridgereg_ft_imp_df.head(22)"
   ]
  },
  {
   "cell_type": "code",
   "execution_count": 238,
   "metadata": {},
   "outputs": [
    {
     "name": "stdout",
     "output_type": "stream",
     "text": [
      "Yhat Max:  2.210585165977931\n"
     ]
    }
   ],
   "source": [
    "#Do we predict Average Bill amount to card Limit Balance ratios greater than 100%?\n",
    "regEstimator = Ridge(alpha=0.1, copy_X=True, fit_intercept=True, max_iter=1000,\n",
    "   normalize=True, random_state=0, solver='saga', tol=0.0001)\n",
    "\n",
    "regEstimator.fit(X_r, y_r)\n",
    "yhat = regEstimator.predict(X_r)\n",
    "print(\"Yhat Max: \", yhat.max())"
   ]
  },
  {
   "cell_type": "markdown",
   "metadata": {},
   "source": [
    "# <a name=\"Methods-of-Evaluation\"></a>Methods of Evaluation Results\n",
    "\n",
    "> [10 points] Analyze the results using your chosen method of evaluation. Use visualizations of the results to bolster the analysis. Explain any visuals and analyze why they are interesting to someone that might use this model.\n",
    "\n",
    "\n"
   ]
  },
  {
   "cell_type": "markdown",
   "metadata": {},
   "source": [
    "### Evaluation Results for Classification Problem"
   ]
  },
  {
   "cell_type": "markdown",
   "metadata": {},
   "source": [
    "> Using the best configuration for each of the 3 algorithms explored (Random forest, KNN neighbors, and Logistic Regression), we will run 10 CV folds and calculate the recall to get a general sense of the distribution of the recall metric for each of the algorithms. \n"
   ]
  },
  {
   "cell_type": "code",
   "execution_count": 239,
   "metadata": {},
   "outputs": [
    {
     "data": {
      "text/plain": [
       "array([0.5902796 , 0.63883164, 0.61697077, 0.67066436, 0.68094983,\n",
       "       0.61271714, 0.67569126, 0.6246933 , 0.63248886, 0.71097963])"
      ]
     },
     "execution_count": 239,
     "metadata": {},
     "output_type": "execute_result"
    }
   ],
   "source": [
    "####### CREATE 10 FOLDS for the LOGISTIC REGRESSION with the corresponding recalls\n",
    "\n",
    "### WE RUN A LOGISTIC REGRESSION WITH THE BEST CONFIGURATION\n",
    "\n",
    "#We set to the best regression configuration obtained\n",
    "LogregEstimator = LogregGridSearch.best_estimator_\n",
    "\n",
    "\n",
    "\n",
    "\n",
    "from sklearn.model_selection import cross_validate\n",
    "from sklearn.metrics import recall_score\n",
    "\n",
    "scoring = ['precision_macro', 'recall_macro']\n",
    "#clf = svm.SVC(kernel='linear', C=1, random_state=0)\n",
    "scores_M1 = cross_validate(LogregEstimator, X_c, y_c, scoring=scoring,\n",
    "                         cv=10, return_train_score=False)\n",
    "sorted(scores_M1.keys())\n",
    "#['fit_time', 'score_time', 'test_precision_macro', 'test_recall_macro']\n",
    "scores_M1['test_recall_macro']                       \n"
   ]
  },
  {
   "cell_type": "code",
   "execution_count": 240,
   "metadata": {},
   "outputs": [
    {
     "name": "stdout",
     "output_type": "stream",
     "text": [
      "[0.52655036 0.53084611 0.54407521 0.54073805 0.53870276 0.54346582\n",
      " 0.55363457 0.54025393 0.53897969 0.54630713]\n"
     ]
    }
   ],
   "source": [
    "######### CREATE 10 FOLDS for the KNN NEIGHBORS with the corresponding recalls\n",
    "\n",
    "clf_KNN = KNeighborsClassifier(n_neighbors=8, weights='uniform', metric='cosine')\n",
    "scoring = ['precision_macro', 'recall_macro']\n",
    "\n",
    "scores_M2 = cross_validate(clf_KNN, X_c, y_c, scoring=scoring,\n",
    "                         cv=10, return_train_score=False)\n",
    "\n",
    "\n",
    "scores_M2['test_recall_macro'] \n",
    "\n",
    "print(scores_M2['test_recall_macro'])\n"
   ]
  },
  {
   "cell_type": "code",
   "execution_count": 241,
   "metadata": {},
   "outputs": [
    {
     "name": "stdout",
     "output_type": "stream",
     "text": [
      "[0.68296227 0.68806355 0.70242942 0.68449343 0.71890989 0.73157441\n",
      " 0.74509836 0.71792902 0.72683675 0.72043553]\n"
     ]
    }
   ],
   "source": [
    "######### CREATE 10 FOLDS for the random forest with the corresponding recalls\n",
    "\n",
    "clf_rfor = RandomForestClassifier(max_depth=5, min_samples_split=2, random_state=0, class_weight='balanced',\n",
    "                             max_features='auto', n_estimators=500, bootstrap=True)\n",
    "\n",
    "\n",
    "\n",
    "\n",
    "\n",
    "scoring = ['precision_macro', 'recall_macro']\n",
    "\n",
    "scores_M3 = cross_validate(clf_rfor, X_c, y_c, scoring=scoring,\n",
    "                         cv=10, return_train_score=False)\n",
    "\n",
    "\n",
    "scores_M3['test_recall_macro'] \n",
    "\n",
    "print(scores_M3['test_recall_macro'])\n",
    "\n",
    "\n"
   ]
  },
  {
   "cell_type": "code",
   "execution_count": 242,
   "metadata": {},
   "outputs": [
    {
     "name": "stdout",
     "output_type": "stream",
     "text": [
      "[0.5902796  0.63883164 0.61697077 0.67066436 0.68094983 0.61271714\n",
      " 0.67569126 0.6246933  0.63248886 0.71097963]\n",
      "<class 'numpy.ndarray'>\n"
     ]
    }
   ],
   "source": [
    "#we create a DATA FRAME to record the recall and then make the BOX plot to visualize the recall metric\n",
    "\n",
    "lrg_recall=scores_M1['test_recall_macro']\n",
    "print(lrg_recall)\n",
    "print(type(lrg_recall))\n",
    "\n",
    "\n",
    "knn_recall=scores_M2['test_recall_macro']\n",
    "\n",
    "rfor_recall=scores_M3['test_recall_macro']\n"
   ]
  },
  {
   "cell_type": "code",
   "execution_count": 243,
   "metadata": {},
   "outputs": [
    {
     "name": "stdout",
     "output_type": "stream",
     "text": [
      "<class 'pandas.core.frame.DataFrame'>\n"
     ]
    },
    {
     "data": {
      "image/png": "[encoded data removed]",
      "text/plain": [
       "<matplotlib.figure.Figure at 0x1a0e878e48>"
      ]
     },
     "metadata": {},
     "output_type": "display_data"
    }
   ],
   "source": [
    "#VISUALIZATION OF THE PERFORMANCE METRICS\n",
    "\n",
    "import numpy as np\n",
    "import pandas as pd\n",
    "lrg_recall=scores_M1['test_recall_macro']\n",
    "knn_recall=scores_M2['test_recall_macro']\n",
    "rfor_recall=scores_M3['test_recall_macro']\n",
    "df_a = pd.DataFrame({'logistic_recall':lrg_recall, 'knn_recall':knn_recall, 'random_forest_recall':rfor_recall})\n",
    "#df_a.plot('x', 'y', kind='scatter')\n",
    "df_a.head()\n",
    "print(type(df_a))\n",
    "\n",
    "\n",
    "#boxplot\n",
    "fig, ax = plt.subplots()\n",
    "box = df_a.boxplot(ax=ax, sym='',return_type='dict') \n",
    "ax.margins(y=0.05)\n",
    "plt.show()\n"
   ]
  },
  {
   "cell_type": "markdown",
   "metadata": {
    "collapsed": true
   },
   "source": [
    "> After running 10 CV scenarios for the best model under the 3 different methods (KNN neighbors, logistic regression, and Random forest), the random forest yields the highest recall. Therefore, the best classification model is the random forest."
   ]
  },
  {
   "cell_type": "markdown",
   "metadata": {},
   "source": [
    "# <a name=\"Advantages-of-each-model\"></a>Advantages of each model\n",
    ">[10 points] Discuss the advantages of each model for each classification task, if any. If there are not advantages, explain why. Is any model better than another? Is the difference significant with 95% confidence? Use proper statistical comparison methods. You must use statistical comparison techniques — be sure they are appropriate for your chosen method of validation as discussed in unit 7 of the course\n"
   ]
  },
  {
   "cell_type": "markdown",
   "metadata": {},
   "source": [
    ">We will leverage the 10 CV executed in the prior section, to conduct statistical comparison of the recall. We want to know if we have evidence to say that in average the recall metrics from the algorithms are statistically different or not.\n"
   ]
  },
  {
   "cell_type": "markdown",
   "metadata": {},
   "source": [
    "### Statistical Comparison -  Logistic Regression vs KNN neighbors"
   ]
  },
  {
   "cell_type": "code",
   "execution_count": 244,
   "metadata": {},
   "outputs": [
    {
     "name": "stdout",
     "output_type": "stream",
     "text": [
      "[-0.06372924 -0.10798554 -0.07289556 -0.12992632 -0.14224707 -0.06925132\n",
      " -0.12205669 -0.08443937 -0.09350916 -0.1646725 ]\n",
      "Range of: -0.12815868331170316 -0.08198387255029961\n",
      "0.6454266394210967 0.5403553614900953\n"
     ]
    }
   ],
   "source": [
    "####EXECUTING THE STATISTICAL COMPARISON\n",
    "\n",
    "#print(scores_M1['test_recall_macro'])\n",
    "\n",
    "#print(scores_M2['test_recall_macro'])\n",
    "\n",
    "t = 2.26 / np.sqrt(10)\n",
    "\n",
    "e = (1-scores_M1['test_recall_macro'])-(1-scores_M2['test_recall_macro'])\n",
    "\n",
    "print(e)\n",
    "\n",
    "stdtot = np.std(e)\n",
    "\n",
    "dbar = np.mean(e)\n",
    "print ('Range of:', dbar-t*stdtot,dbar+t*stdtot )\n",
    "print (np.mean(scores_M1['test_recall_macro']), np.mean(scores_M2['test_recall_macro']))"
   ]
  },
  {
   "cell_type": "markdown",
   "metadata": {},
   "source": [
    "> The CI of 95% does not contain the value of ZERO, there is evidence to reject the fact that the average recall for logistic regression and KNN are equal. Therefore, we can compare the metrics of performance between the models. The logistic regression outperforms KNN neighbors."
   ]
  },
  {
   "cell_type": "markdown",
   "metadata": {},
   "source": [
    "### Statistical Comparison -  Logistic Regression vs Random Forest"
   ]
  },
  {
   "cell_type": "code",
   "execution_count": 245,
   "metadata": {},
   "outputs": [
    {
     "name": "stdout",
     "output_type": "stream",
     "text": [
      "Range of: 0.04125401522998974 0.09163923512376453\n",
      "0.6454266394210967 0.7118732645979737\n"
     ]
    }
   ],
   "source": [
    "t = 2.26 / np.sqrt(10)\n",
    "\n",
    "e = (1-scores_M1['test_recall_macro'])-(1-scores_M3['test_recall_macro'])\n",
    "\n",
    "#print(e)\n",
    "\n",
    "stdtot = np.std(e)\n",
    "\n",
    "dbar = np.mean(e)\n",
    "print ('Range of:', dbar-t*stdtot,dbar+t*stdtot )\n",
    "print (np.mean(scores_M1['test_recall_macro']), np.mean(scores_M3['test_recall_macro']))"
   ]
  },
  {
   "cell_type": "markdown",
   "metadata": {},
   "source": [
    ">The CI of 95% does not contain the value of ZERO, there is evidence to reject the fact that the average recall for logistic regression and random forest are equal. Therefore, we can compare the metrics of performance between the models. The random forest outperforms logistic regression."
   ]
  },
  {
   "cell_type": "markdown",
   "metadata": {},
   "source": [
    "### Statistical Comparison -  KNN Neighbors vs Random Forest"
   ]
  },
  {
   "cell_type": "code",
   "execution_count": 246,
   "metadata": {},
   "outputs": [
    {
     "name": "stdout",
     "output_type": "stream",
     "text": [
      "Range of: 0.1603611443733969 0.18267466184236011\n",
      "0.5403553614900953 0.7118732645979737\n"
     ]
    }
   ],
   "source": [
    "t = 2.26 / np.sqrt(10)\n",
    "\n",
    "e = (1-scores_M2['test_recall_macro'])-(1-scores_M3['test_recall_macro'])\n",
    "\n",
    "#print(e)\n",
    "\n",
    "stdtot = np.std(e)\n",
    "\n",
    "dbar = np.mean(e)\n",
    "print ('Range of:', dbar-t*stdtot,dbar+t*stdtot )\n",
    "print (np.mean(scores_M2['test_recall_macro']), np.mean(scores_M3['test_recall_macro']))"
   ]
  },
  {
   "cell_type": "markdown",
   "metadata": {},
   "source": [
    ">The CI of 95% does not contain the value of ZERO, there is evidence to reject the fact that the average recall for KNN neighbors and random forest are equal. Therefore, we can compare the metrics of performance between the models. The random forest outperforms KNN neighbors."
   ]
  },
  {
   "cell_type": "markdown",
   "metadata": {},
   "source": [
    "### Pros and cons of the classification models\n",
    "\n",
    "\n",
    "> The Random forest yields the higher recall and therefore is deemed the best model to classify defaulted borrowers. However, it is important to notice that one of the main drawbacks of the random forest is that a large number of trees may make the algorithm slow for real-time prediction. That would be relevant if the bank needs to run the model multiple times and in a short period of time to determine the classification. \n",
    "\n",
    "> On the other hand, the main advantage of the logistic regression is the easy interpretation of the coefficients to explain the model to non-technical users of the model and most importantl bank's regulators.\n",
    "\n",
    "> The bank will have to make the decision to implement the model based upon capabilities and ability to explain the model to the final users."
   ]
  },
  {
   "cell_type": "markdown",
   "metadata": {},
   "source": [
    "### Pros and cons of the regression models\n",
    "\n",
    "> We executed 3 scenarios of regression:\n",
    "\n",
    "> 1) Capped Regression\n",
    "\n",
    "> 2) Lasso Regression\n",
    "\n",
    "> 3) Ridge Regression\n",
    "\n",
    "> For purposes of comparison we created the distribution (refer to section Regression Task to see the details) via bootstrapping. We have selected the Ridge regression as the best scenario since it yields the lowest MAE and allows the bank to identify \"overdrafts\" (i.e. situations in which the borrowers surpass the credit limit). The capped regression will not identify the \"overdrafts\" and therefore it is discarded. Finally, the lasso regression yields a higher error and it is discarded for that reason."
   ]
  },
  {
   "cell_type": "markdown",
   "metadata": {},
   "source": [
    "# <a name=\"Relevant-Attributes\"></a>Relevant Attributes\n",
    ">[10 points] Which attributes from your analysis are most important? Use proper methods discussed in class to evaluate the importance of different attributes. Discuss the results and hypothesize about why certain attributes are more important than others for a given classification task\n"
   ]
  },
  {
   "cell_type": "markdown",
   "metadata": {},
   "source": [
    "KNN works best when there is low dimensionality, meaning not using hundreds of features, which could help explain why it performed so poorly on this data set.  Furthermore, normalizing your data so that each feature is on the same scale will create a better model. With this in mind, there are not features that are less or more important in a KNN model that we can find after the model has been run. The process of selecting features should be perfmored before the model is created. "
   ]
  },
  {
   "cell_type": "markdown",
   "metadata": {},
   "source": [
    "## Random Forest Classification"
   ]
  },
  {
   "cell_type": "code",
   "execution_count": 247,
   "metadata": {},
   "outputs": [
    {
     "name": "stdout",
     "output_type": "stream",
     "text": [
      "name                             score\n",
      "PAY_1_range_delay > 1      0.265911\n",
      "PAY_2_range_delay > 1      0.177077\n",
      "PAY_3_range_delay > 1      0.0993419\n",
      "PAY_4_range_delay > 1      0.0668477\n",
      "PAY_5_range_delay > 1      0.0615964\n",
      "Avg_PAY                    0.0522552\n",
      "PAY_6_range_delay > 1      0.0390754\n",
      "PAY_AMT1                   0.0376743\n",
      "LIMIT_BAL                  0.0270168\n",
      "AvgBill_to_LIMIT_BAL       0.0266756\n",
      "PAY_AMT2                   0.0233533\n",
      "PAY_1_range_delay 1 month  0.0174449\n",
      "PAY_AMT3                   0.0164693\n",
      "PAY_AMT4                   0.0134557\n",
      "Avg_BILL                   0.013123\n",
      "PAY_AMT6                   0.0109716\n",
      "BILL_AMT1                  0.00889782\n",
      "AvgPay_to_LIMIT_BAL        0.00731515\n",
      "BILL_AMT2                  0.00723592\n",
      "PAY_AMT5                   0.00707999\n",
      "BILL_AMT3                  0.00517733\n",
      "BILL_AMT5                  0.00496441\n",
      "BILL_AMT4                  0.00391474\n",
      "BILL_AMT6                  0.00346256\n",
      "AGE                        0.00192295\n",
      "EDUCATION_INP_4            0.00074076\n",
      "SEX_2                      0.000347426\n",
      "MARRIAGE_INP_2             0.000269609\n",
      "EDUCATION_INP_3            0.000175999\n",
      "EDUCATION_INP_2            0.000145927\n",
      "MARRIAGE_INP_3             6.08715e-05\n"
     ]
    }
   ],
   "source": [
    "print(rf_feature_importance)"
   ]
  },
  {
   "cell_type": "markdown",
   "metadata": {},
   "source": [
    "> The top 5 most important features in the Random Forest Classification Model are all PAY_X_range_delay, with Avg_PAY being the sixth most important feature. SciKit's Random Forest Classifier uses the \"Gini importance,\" also known as the \"mean decrease impurity,\" to discern the importance of each feature.\n",
    "\n",
    "> The gini importance for a given feature is a result of the \"total decrease in node impurity, weighted by the probability of reaching that node (which is approximated by the proportion of samples reaching that node), averaged over all trees of the ensemble (https://stackoverflow.com/questions/15810339/how-are-feature-importances-in-randomforestclassifier-determined).\n",
    "\n",
    "> Quantitative attributes dominate the top end of importance, whereas qualitative attributes are found at the bottom of the barrel. In fact, marrital status, education level, and to a certain extent age all have a Gini importance of nearly zero. What the model is telling us is that it does not care if the customer is married, a certain age, or has a PhD. Ultimately, what determines if a customer is going to default is based on on-time versus late payments of credit bill periods. On one hand this is a large simplification of the problem, but on the other the Random Forest Classifier is telling us that paid-duly on payment periods 1-5 are the most important for determining if a customer will default on their credit."
   ]
  },
  {
   "cell_type": "markdown",
   "metadata": {},
   "source": [
    "## Logistic Regression Classification\n",
    "\n",
    "> >The most important variables to predict the default according to the logistic regression are:\n",
    "\n",
    "\n",
    ">a) The repayment status of the most recent month (dummy variables: Pay_1_range_delay 1 month, Pay_1_rande delay < 1)\n",
    "\n",
    ">b) The amount of bill statement of the most recent month (BILL_AMT1)\n",
    "\n",
    ">c) Limit Balance (LIMIT_BAL)\n",
    "\n",
    ">d) The amount paid in the most recent month (PAY_AMT1)\n",
    "\n",
    ">Among the socio-economic variables (Sex, Education, Marriage, and Age), the Education is the most relevant, followed by Marriage, sex, and age."
   ]
  },
  {
   "cell_type": "markdown",
   "metadata": {},
   "source": [
    "## Relevant attributes for the Regression Task - Predicting \"Ratio of average bill amount to credit limit balance\" are the following:\n",
    "\n",
    "> 1) Education\n",
    "\n",
    "> 2) The repayment status of the prior 2 months (dummy variables:  Pay_2_rande delay < 1)\n",
    "\n",
    "> 3) The repayment status of the most recent month (dummy variables: Pay_1_range_delay 1 month, Pay_1_rande delay < 1)\n",
    "\n",
    "> 4) Marital Status\n",
    "\n",
    "> Subject matter expert considers that highly educated people will have a better usage of their credit and therefore it is relevant when predicting it.\n"
   ]
  },
  {
   "cell_type": "markdown",
   "metadata": {},
   "source": [
    "# <a name=\"Deployment\"></a>Deployment\n",
    ">[5 points] How useful is your model for interested parties (i.e., the companies or organizations\n",
    "that might want to use it for prediction)? How would you measure the model's value if it was used by these parties? How would your deploy your model for interested parties? What other data should be collected? How often would the model need to be updated, etc.?"
   ]
  },
  {
   "cell_type": "markdown",
   "metadata": {},
   "source": [
    "> For the classification task it is important to be able to identify potential delinquent customers. The model with the highest recall is the \"Random forest\". The bank will use the model to grant credit to existing and new customers.  The implementation of the model would be dependent on the bank's infraestucture to implement the random forest if the bank does not have a very flexible and to some extent up-to date infrastructure, it would be recommended to implement the logistic regression.  it is recommended to monitor the model on the quaterly basis to determine if it default rate remains according to bank's expectations, if that is not the case, the model will have to be revisited. The additional data to be included would come from social media to get to know more socioeconomic aspects of the borrowers.\n",
    "\n",
    "> Finally for the regression task, predicting the \"Ratio of average bill amount to credit limit balance\" will allow the bank to offer additinal credit products to the ones that have lower usage of their credit. This model can be assesed on annual basis to determine if after offering a product to those customer with high usage, they accepted it and their usage moves to a level that provides a higher return to the bank.\n"
   ]
  },
  {
   "cell_type": "markdown",
   "metadata": {},
   "source": [
    "# <a name=\"Exceptional-Work\"></a>Exceptional Work\n",
    "> [10 points] You have free reign to provide additional analyses\n",
    "> One idea: grid search parameters in a parallelized fashion and visualize the\n",
    "performances across attributes. Which parameters are most significant for making a good model for each classification algorithm?"
   ]
  },
  {
   "cell_type": "markdown",
   "metadata": {},
   "source": [
    "> For our exceptional work, we created additional variables as well as perfomed a grid search testing 40 models to find the best parameters for our Linear Regression model based on MAE."
   ]
  },
  {
   "cell_type": "markdown",
   "metadata": {},
   "source": [
    "> The grid search was also implemented for the logistic regression, that gave us the opportunity to select the best configuration given prior parameter given to test."
   ]
  },
  {
   "cell_type": "markdown",
   "metadata": {
    "collapsed": true
   },
   "source": [
    "# <a name=\"References\"></a>References\n",
    "\n",
    "* https://github.com/eclarson/DataMiningNotebooks/blob/master/04.%20Logits%20and%20SVM.ipynb\n",
    "* https://github.com/jakemdrew/EducationDataNC/blob/master/Graduation%20Rates%20v2.ipynb\n",
    "* http://scikit-learn.org/stable/modules/cross_validation.html#cross-validation\n",
    "* http://scikit-learn.org/stable/modules/generated/sklearn.model_selection.StratifiedKFold.html\n",
    "* https://stackoverflow.com/questions/29438265/stratified-train-test-split-in-scikit-learn\n",
    "* http://blog.exsilio.com/all/accuracy-precision-recall-f1-score-interpretation-of-performance-measures/\n",
    "* https://www.analyticsvidhya.com/blog/2017/09/understaing-support-vector-machine-example-code/\n",
    "* http://scikit-learn.org/stable/modules/generated/sklearn.linear_model.LogisticRegression.html\n",
    "* http://scikit-learn.org/stable/modules/generated/sklearn.linear_model.Lasso.html\n",
    "* http://scikit-learn.org/stable/modules/generated/sklearn.linear_model.Ridge.html\n",
    "* http://scikit-learn.org/stable/modules/generated/sklearn.metrics.precision_recall_fscore_support.html\n",
    "* https://machinelearningmastery.com/k-nearest-neighbors-for-machine-learning/\n",
    "* https://en.wikipedia.org/wiki/Mean_absolute_percentage_error\n",
    "* http://scikit-learn.org/stable/modules/cross_validation.html\n"
   ]
  },
  {
   "cell_type": "markdown",
   "metadata": {
    "collapsed": true
   },
   "source": []
  },
  {
   "cell_type": "code",
   "execution_count": null,
   "metadata": {},
   "outputs": [],
   "source": []
  }
 ],
 "metadata": {
  "anaconda-cloud": {},
  "kernelspec": {
   "display_name": "Python [conda env:py36]",
   "language": "python",
   "name": "conda-env-py36-py"
  },
  "language_info": {
   "codemirror_mode": {
    "name": "ipython",
    "version": 3
   },
   "file_extension": ".py",
   "mimetype": "text/x-python",
   "name": "python",
   "nbconvert_exporter": "python",
   "pygments_lexer": "ipython3",
   "version": "3.6.4"
  }
 },
 "nbformat": 4,
 "nbformat_minor": 2
}
